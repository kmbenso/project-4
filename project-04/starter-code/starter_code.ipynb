{
 "cells": [
  {
   "cell_type": "markdown",
   "metadata": {
    "focus": false,
    "id": "69b9a648-bcc7-490d-9f9b-ea244d156bd6"
   },
   "source": [
    "# Web Scraping for Indeed.com & Predicting Salaries"
   ]
  },
  {
   "cell_type": "markdown",
   "metadata": {
    "focus": false,
    "id": "34681254-c802-462f-829d-8894d0772d08"
   },
   "source": [
    "In this project, we will practice two major skills: collecting data by scraping a website and then building a binary predictor with Logistic Regression.\n",
    "\n",
    "We are going to collect salary information on data science jobs in a variety of markets. Then using the location, title and summary of the job we will attempt to predict the salary of the job. For job posting sites, this would be extraordinarily useful. While most listings DO NOT come with salary information (as you will see in this exercise), being to able extrapolate or predict the expected salaries from other listings can help guide negotiations.\n",
    "\n",
    "Normally, we could use regression for this task; however, we will convert this problem into classification and use Logistic Regression.\n",
    "\n",
    "- Question: Why would we want this to be a classification problem?\n",
    "- Answer: While more precision may be better, there is a fair amount of natural variance in job salaries - predicting a range be may be useful.\n",
    "\n",
    "Therefore, the first part of the assignment will be focused on scraping Indeed.com. In the second, we'll focus on using listings with salary information to build a model and predict additional salaries."
   ]
  },
  {
   "cell_type": "markdown",
   "metadata": {
    "focus": false,
    "id": "a948d79c-5527-4c0d-ab23-f5d43ce72056"
   },
   "source": [
    "### Scraping job listings from Indeed.com"
   ]
  },
  {
   "cell_type": "markdown",
   "metadata": {
    "focus": true,
    "id": "7203e0c9-e437-4802-a6ad-7dc464f94436"
   },
   "source": [
    "We will be scraping job listings from Indeed.com using BeautifulSoup. Luckily, Indeed.com is a simple text page where we can easily find relevant entries.\n",
    "\n",
    "First, look at the source of an Indeed.com page: (http://www.indeed.com/jobs?q=data+scientist+%2420%2C000&l=New+York&start=10\")\n",
    "\n",
    "Notice, each job listing is underneath a `div` tag with a class name of `result`. We can use BeautifulSoup to extract those. "
   ]
  },
  {
   "cell_type": "markdown",
   "metadata": {
    "focus": false,
    "id": "9732c901-ae26-4160-8376-42e22dd327df"
   },
   "source": [
    "#### Setup a request (using `requests`) to the URL below. Use BeautifulSoup to parse the page and extract all results (HINT: Look for div tags with class name result)\n",
    "\n",
    "The URL here has many query parameters\n",
    "\n",
    "- `q` for the job search\n",
    "- This is followed by \"+20,000\" to return results with salaries (or expected salaries >$20,000)\n",
    "- `l` for a location \n",
    "- `start` for what result number to start on"
   ]
  },
  {
   "cell_type": "code",
   "execution_count": 1,
   "metadata": {
    "collapsed": false,
    "focus": false,
    "id": "e915023e-6b0d-4982-af2a-b1e0355f4927"
   },
   "outputs": [],
   "source": [
    "URL = \"http://www.indeed.com/jobs?q=data+scientist+%2420%2C000&l=New+York&start=10\""
   ]
  },
  {
   "cell_type": "code",
   "execution_count": 2,
   "metadata": {
    "collapsed": true,
    "focus": false,
    "id": "2efefc73-064a-482d-b3b5-ddf5508cb4ec"
   },
   "outputs": [],
   "source": [
    "import requests\n",
    "import bs4\n",
    "from bs4 import BeautifulSoup"
   ]
  },
  {
   "cell_type": "code",
   "execution_count": 3,
   "metadata": {
    "collapsed": true,
    "focus": false,
    "id": "2c6752c4-7704-4c94-8bc0-6f13d2d0d570"
   },
   "outputs": [],
   "source": [
    "## YOUR CODE HERE"
   ]
  },
  {
   "cell_type": "markdown",
   "metadata": {
    "focus": false,
    "id": "bb0b866a-26a7-45e9-8084-5a0f90eb4b3e"
   },
   "source": [
    "Let's look at one result more closely. A single `result` looks like\n",
    "\n",
    "```\n",
    "<div class=\" row result\" data-jk=\"2480d203f7e97210\" data-tn-component=\"organicJob\" id=\"p_2480d203f7e97210\" itemscope=\"\" itemtype=\"http://schema.org/JobPosting\">\n",
    "<h2 class=\"jobtitle\" id=\"jl_2480d203f7e97210\">\n",
    "<a class=\"turnstileLink\" data-tn-element=\"jobTitle\" onmousedown=\"return rclk(this,jobmap[0],1);\" rel=\"nofollow\" target=\"_blank\" title=\"AVP/Quantitative Analyst\">AVP/Quantitative Analyst</a>\n",
    "</h2>\n",
    "<span class=\"company\" itemprop=\"hiringOrganization\" itemtype=\"http://schema.org/Organization\">\n",
    "<span itemprop=\"name\">\n",
    "<a href=\"/cmp/Alliancebernstein?from=SERP&amp;campaignid=serp-linkcompanyname&amp;fromjk=2480d203f7e97210&amp;jcid=b374f2a780e04789\" target=\"_blank\">\n",
    "    AllianceBernstein</a></span>\n",
    "</span>\n",
    "<tr>\n",
    "<td class=\"snip\">\n",
    "<nobr>$117,500 - $127,500 a year</nobr>\n",
    "<div>\n",
    "<span class=\"summary\" itemprop=\"description\">\n",
    "C onduct quantitative and statistical research as well as portfolio management for various investment portfolios. Collaborate with Quantitative Analysts and</span>\n",
    "</div>\n",
    "</div>\n",
    "</td>\n",
    "</tr>\n",
    "</table>\n",
    "</div>\n",
    "```\n",
    "\n",
    "While this has some more verbose elements removed, we can see that there is some structure to the above:\n",
    "- The salary is available in a `nobr` element inside of a `td` element with `class='snip`.\n",
    "- The title of a job is in a link with class set to `jobtitle` and a `data-tn-element=\"jobTitle`.  \n",
    "- The location is set in a `span` with `class='location'`. \n",
    "- The company is set in a `span` with `class='company'`. "
   ]
  },
  {
   "cell_type": "markdown",
   "metadata": {
    "focus": false,
    "id": "f1eddb90-4ba8-483c-a229-77e93aa53119"
   },
   "source": [
    "### Write 4 functions to extract each item: location, company, job, and salary.\n",
    "\n",
    "example: \n",
    "```python\n",
    "def extract_location_from_result(result):\n",
    "    return result.find ...\n",
    "```\n",
    "\n",
    "\n",
    "- **Make sure these functions are robust and can handle cases where the data/field may not be available.**\n",
    "    - Remember to check if a field is empty or `None` for attempting to call methods on it\n",
    "    - Remember to use `try/except` if you anticipate errors\n",
    "- **Test** the functions on the results above and simple examples"
   ]
  },
  {
   "cell_type": "code",
   "execution_count": 4,
   "metadata": {
    "collapsed": true,
    "focus": false,
    "id": "a1af53c9-9090-494f-b82e-cadb60a54909"
   },
   "outputs": [],
   "source": [
    "## YOUR CODE HERE"
   ]
  },
  {
   "cell_type": "markdown",
   "metadata": {
    "focus": false,
    "id": "34070e89-9521-4b45-90c8-57a6599aac68"
   },
   "source": [
    "Now, to scale up our scraping, we need to accumulate more results. We can do this by examining the URL above.\n",
    "\n",
    "- \"http://www.indeed.com/jobs?q=data+scientist+%2420%2C000&l=New+York&start=10\"\n",
    "\n",
    "There are two query parameters here we can alter to collect more results, the `l=New+York` and the `start=10`. The first controls the location of the results (so we can try a different city). The second controls where in the results to start and gives 10 results (thus, we can keep incrementing by 10 to go further in the list)."
   ]
  },
  {
   "cell_type": "markdown",
   "metadata": {
    "focus": false,
    "id": "e8beed7c-3e42-40c0-810f-5f67f8f885a0"
   },
   "source": [
    "#### Complete the following code to collect results from multiple cities and starting points. \n",
    "- Enter your city below to add it to the search\n",
    "- Remember to convert your salary to U.S. Dollars to match the other cities if the currency is different"
   ]
  },
  {
   "cell_type": "code",
   "execution_count": 5,
   "metadata": {
    "collapsed": true,
    "focus": false,
    "id": "a9aa87ec-3575-4a01-a986-eb684f2c47d0"
   },
   "outputs": [],
   "source": [
    "YOUR_CITY = ''"
   ]
  },
  {
   "cell_type": "code",
   "execution_count": 6,
   "metadata": {
    "collapsed": false,
    "focus": false,
    "id": "04b0f9af-540e-402f-8292-81748707c676"
   },
   "outputs": [],
   "source": [
    "url_template = \"http://www.indeed.com/jobs?q=data+scientist+%2420%2C000&l={}&start={}\"\n",
    "max_results_per_city = 100 # Set this to a high-value (5000) to generate more results. \n",
    "# Crawling more results, will also take much longer. First test your code on a small number of results and then expand.\n",
    "\n",
    "results = []\n",
    "\n",
    "for city in set(['New+York', 'Chicago', 'San+Francisco', 'Austin', 'Seattle', \n",
    "    'Los+Angeles', 'Philadelphia', 'Atlanta', 'Dallas', 'Pittsburgh', \n",
    "    'Portland', 'Phoenix', 'Denver', 'Houston', 'Miami', YOUR_CITY]):\n",
    "    for start in range(0, max_results_per_city, 10):\n",
    "        # Grab the results from the request (as above)\n",
    "        # Append to the full set of results\n",
    "        pass"
   ]
  },
  {
   "cell_type": "markdown",
   "metadata": {
    "focus": false,
    "id": "20339c09-5032-4e27-91be-286e9b46cd13"
   },
   "source": [
    "#### Use the functions you wrote above to parse out the 4 fields - location, title, company and salary. Create a dataframe from the results with those 4 columns."
   ]
  },
  {
   "cell_type": "code",
   "execution_count": 7,
   "metadata": {
    "collapsed": false,
    "focus": false,
    "id": "6e259594-1c52-436b-ab9e-527e071941c1"
   },
   "outputs": [],
   "source": [
    "## YOUR CODE HERE"
   ]
  },
  {
   "cell_type": "markdown",
   "metadata": {
    "focus": false,
    "id": "ff98ce64-78a7-441f-a675-63464e32c834"
   },
   "source": [
    "Lastly, we need to clean up salary data. \n",
    "\n",
    "1. Only a small number of the scraped results have salary information - only these will be used for modeling.\n",
    "1. Some of the salaries are not yearly but hourly or weekly, these will not be useful to us for now\n",
    "1. Some of the entries may be duplicated\n",
    "1. The salaries are given as text and usually with ranges.\n",
    "\n",
    "#### Find the entries with annual salary entries, by filtering the entries without salaries or salaries that are not yearly (filter those that refer to hour or week). Also, remove duplicate entries"
   ]
  },
  {
   "cell_type": "code",
   "execution_count": 8,
   "metadata": {
    "collapsed": false,
    "focus": false,
    "id": "58533e57-f86b-494a-b841-e7b59c6229c6"
   },
   "outputs": [],
   "source": [
    "## YOUR CODE HERE"
   ]
  },
  {
   "cell_type": "markdown",
   "metadata": {
    "focus": false,
    "id": "7d4bc860-b214-4f75-9cd0-b234830b1ec2"
   },
   "source": [
    "#### Write a function that takes a salary string and converts it to a number, averaging a salary range if necessary"
   ]
  },
  {
   "cell_type": "code",
   "execution_count": 9,
   "metadata": {
    "collapsed": true,
    "focus": false,
    "id": "a0f701e0-80bd-40ba-9101-4535860c0968"
   },
   "outputs": [],
   "source": [
    "## YOUR CODE HERE"
   ]
  },
  {
   "cell_type": "markdown",
   "metadata": {
    "collapsed": false,
    "focus": false,
    "id": "43e71edd-210e-42b1-9336-70a931f048af"
   },
   "source": [
    "### Save your results as a CSV"
   ]
  },
  {
   "cell_type": "code",
   "execution_count": 10,
   "metadata": {
    "collapsed": false,
    "focus": false,
    "id": "783fd153-28ac-47ab-bfca-27e7c1de95b4"
   },
   "outputs": [],
   "source": [
    "import pandas as pd\n",
    "import numpy as np\n",
    "df = pd.read_csv('/Users/Karibenson/dsi/dsi-repo/DSI_SM_3/projects/project-04/assets/indeed-scraped-job-postings.csv')\n",
    "\n"
   ]
  },
  {
   "cell_type": "markdown",
   "metadata": {
    "focus": false,
    "id": "04563b69-f7b6-466f-9d65-fc62c9ddee6a"
   },
   "source": [
    "## Predicting salaries using Logistic Regression"
   ]
  },
  {
   "cell_type": "markdown",
   "metadata": {
    "focus": false,
    "id": "243e949e-2742-40af-872e-fec475fd306c"
   },
   "source": [
    "#### Load in the the data of scraped salaries"
   ]
  },
  {
   "cell_type": "code",
   "execution_count": 11,
   "metadata": {
    "collapsed": false,
    "focus": false,
    "id": "588f9845-6143-4bcc-bfd1-85d45b79303d"
   },
   "outputs": [
    {
     "data": {
      "text/html": [
       "<div>\n",
       "<table border=\"1\" class=\"dataframe\">\n",
       "  <thead>\n",
       "    <tr style=\"text-align: right;\">\n",
       "      <th></th>\n",
       "      <th>city</th>\n",
       "      <th>company</th>\n",
       "      <th>salary</th>\n",
       "      <th>summary</th>\n",
       "      <th>title</th>\n",
       "      <th>parsed_salary</th>\n",
       "    </tr>\n",
       "  </thead>\n",
       "  <tbody>\n",
       "    <tr>\n",
       "      <th>0</th>\n",
       "      <td>Denver</td>\n",
       "      <td>Department Of The Interior</td>\n",
       "      <td>$76,341 - $99,243 a year</td>\n",
       "      <td>Would you like to join the more than 10,000 sc...</td>\n",
       "      <td>Statistician, GS-1350-12 (DEU-PERM-DS)</td>\n",
       "      <td>87792.0</td>\n",
       "    </tr>\n",
       "    <tr>\n",
       "      <th>1</th>\n",
       "      <td>Denver</td>\n",
       "      <td>Department Of The Interior</td>\n",
       "      <td>$71,012 - $99,243 a year</td>\n",
       "      <td>Investigate potential uses of geospatial data ...</td>\n",
       "      <td>Interdisciplinary Cartographer/Geographer - GS...</td>\n",
       "      <td>85127.5</td>\n",
       "    </tr>\n",
       "    <tr>\n",
       "      <th>2</th>\n",
       "      <td>Denver</td>\n",
       "      <td>Mental Health Center of Denver</td>\n",
       "      <td>$70,000 - $80,000 a year</td>\n",
       "      <td>Advise the Data Developer with regard to creat...</td>\n",
       "      <td>Financial Data Scientist</td>\n",
       "      <td>75000.0</td>\n",
       "    </tr>\n",
       "    <tr>\n",
       "      <th>3</th>\n",
       "      <td>Denver</td>\n",
       "      <td>Denver Public Schools</td>\n",
       "      <td>$62,712 - $75,255 a year</td>\n",
       "      <td>Portal managers on student outcome data report...</td>\n",
       "      <td>SENIOR RESEARCH ANALYST</td>\n",
       "      <td>68983.5</td>\n",
       "    </tr>\n",
       "    <tr>\n",
       "      <th>4</th>\n",
       "      <td>Denver</td>\n",
       "      <td>University of Colorado</td>\n",
       "      <td>$25,000 - $29,000 a year</td>\n",
       "      <td>Experience entering and manipulating data in a...</td>\n",
       "      <td>Animal Care I</td>\n",
       "      <td>27000.0</td>\n",
       "    </tr>\n",
       "  </tbody>\n",
       "</table>\n",
       "</div>"
      ],
      "text/plain": [
       "     city                         company                    salary  \\\n",
       "0  Denver      Department Of The Interior  $76,341 - $99,243 a year   \n",
       "1  Denver      Department Of The Interior  $71,012 - $99,243 a year   \n",
       "2  Denver  Mental Health Center of Denver  $70,000 - $80,000 a year   \n",
       "3  Denver           Denver Public Schools  $62,712 - $75,255 a year   \n",
       "4  Denver          University of Colorado  $25,000 - $29,000 a year   \n",
       "\n",
       "                                             summary  \\\n",
       "0  Would you like to join the more than 10,000 sc...   \n",
       "1  Investigate potential uses of geospatial data ...   \n",
       "2  Advise the Data Developer with regard to creat...   \n",
       "3  Portal managers on student outcome data report...   \n",
       "4  Experience entering and manipulating data in a...   \n",
       "\n",
       "                                               title  parsed_salary  \n",
       "0             Statistician, GS-1350-12 (DEU-PERM-DS)        87792.0  \n",
       "1  Interdisciplinary Cartographer/Geographer - GS...        85127.5  \n",
       "2                           Financial Data Scientist        75000.0  \n",
       "3                            SENIOR RESEARCH ANALYST        68983.5  \n",
       "4                                      Animal Care I        27000.0  "
      ]
     },
     "execution_count": 11,
     "metadata": {},
     "output_type": "execute_result"
    }
   ],
   "source": [
    "df.head()"
   ]
  },
  {
   "cell_type": "markdown",
   "metadata": {
    "focus": false,
    "id": "c7631f51-07f2-4c79-a093-3e9bc7849a48"
   },
   "source": [
    "#### We want to predict a binary variable - whether the salary was low or high. Compute the median salary and create a new binary variable that is true when the salary is high (above the median)\n",
    "\n",
    "We could also perform Linear Regression (or any regression) to predict the salary value here. Instead, we are going to convert this into a _binary_ classification problem, by predicting two classes, HIGH vs LOW salary.\n",
    "\n",
    "While performing regression may be better, performing classification may help remove some of the noise of the extreme salaries. We don't have to choice the `median` as the splitting point - we could also split on the 75th percentile or any other reasonable breaking point.\n",
    "\n",
    "In fact, the ideal scenario may be to predict many levels of salaries, "
   ]
  },
  {
   "cell_type": "code",
   "execution_count": 12,
   "metadata": {
    "collapsed": false,
    "scrolled": true
   },
   "outputs": [
    {
     "data": {
      "text/plain": [
       "array([  87792. ,   85127.5,   75000. ,   68983.5,   27000. ,   93645. ,\n",
       "         66654. ,   77500. ,  130000. ,   85000. ,   55733.5,   43500. ,\n",
       "         44250. ,  105000. ,   47500. ,  170000. ,  140000. ,  150000. ,\n",
       "         35000. ,  160000. ,   41000. ,   65000. ,  120000. ,  135000. ,\n",
       "         82500. ,  190000. ,  125000. ,   40000. ,   44293.5,   81078. ,\n",
       "         71592. ,   87313.5,   59910. ,   80000. ,  110000. ,   90000. ,\n",
       "         56000. ,   60000. ,  165000. ,  100000. ,   70000. ,  115285.5,\n",
       "         10000. ,  115000. ,  145000. ,   74782.5,   79150. ,   42000. ,\n",
       "         49832.5,   45162. ,   26442. ,   39390. ,   42723.5,   30264. ,\n",
       "         23322. ,   60528. ,   50375. ,  107500. ,   32900. ,   95000. ,\n",
       "        155000. ,   71000. ,  138300. ,  200000. ,  175000. ,   55000. ,\n",
       "        185000. ,   50502.5,   50000. ,  180000. ,  137500. ,   82329. ,\n",
       "         58000. ,  112500. ,   41600. ,   75500. ,   87368.5,   74317.5,\n",
       "        132500. ,  122500. ,   85038.5,  225000. ,   58948.5,  195000. ,\n",
       "         74903.5,   76941.5,   59250. ,   45488. ,  102500. ,   75065. ,\n",
       "         99521. ,   66244. ,   75619.5,   39754.5,   45000. ,   61500. ,\n",
       "         87500. ,  152500. ,   67500. ,   51363. ,  250000. ,   52500. ,\n",
       "        157500. ,   70142. ,   47799.5,  215000. ,   51165. ,   74119.5,\n",
       "         73357. ,   57969. ,   50598. ,   91602. ,   83500. ,   42416. ,\n",
       "         57500. ,   69674. ,  106317.5,   92524.5,  240000. ,  127500. ,\n",
       "         50402. ,  117234.5,   63000. ,  134772.5,   72500. ,   77436.5,\n",
       "         51392.5,  101654.5,   30000. ,   86180. ,   81534. ,   79126.5,\n",
       "         35840. ,   36000. ,   36250. ,   86500. ,   93431. ,   64500. ,\n",
       "         54590. ,   32454.5,   43040.5,   67632. ,   78195.5,  142500. ,\n",
       "         84649. ,   47406. ,  300000. ,   55200. ,  162500. ,   21294.5,\n",
       "         49012. ,   74550. ,  227500. ,   79247. ,  141158. ,   33400. ,\n",
       "         94531. ,   50794. ,   56200. ,   52300. ,  212500. ,   54182. ,\n",
       "         34999.5])"
      ]
     },
     "execution_count": 12,
     "metadata": {},
     "output_type": "execute_result"
    }
   ],
   "source": [
    "# get rid of NaNs\n",
    "df['parsed_salary'].dropna(inplace=True)\n",
    "df['parsed_salary'].unique()"
   ]
  },
  {
   "cell_type": "code",
   "execution_count": 13,
   "metadata": {
    "collapsed": false
   },
   "outputs": [
    {
     "data": {
      "text/plain": [
       "array(['Denver', 'Austin', 'Seattle', 'Philadelphia', 'Palo+Alto',\n",
       "       'Pittsburgh', 'Miami', 'Chicago', 'Dallas', 'San+Diego', 'New+York',\n",
       "       'Boston', 'Los+Angeles', 'Phoenix', 'Houston', 'Portland',\n",
       "       'San+Francisco', 'Atlanta'], dtype=object)"
      ]
     },
     "execution_count": 13,
     "metadata": {},
     "output_type": "execute_result"
    }
   ],
   "source": [
    "df['city'].unique()"
   ]
  },
  {
   "cell_type": "code",
   "execution_count": 14,
   "metadata": {
    "collapsed": false
   },
   "outputs": [],
   "source": [
    "# rename LA, SF, SD, NY\n",
    "def renamed_cities(city):\n",
    "    if city == 'Los+Angeles':\n",
    "        return 'Los Angeles'\n",
    "    elif city == 'San+Francisco':\n",
    "        return 'San Francisco'\n",
    "    elif city == 'San+Diego':\n",
    "        return 'San Diego'\n",
    "    elif city == 'Palo+Alto':\n",
    "        return 'Palo Alto'\n",
    "    elif city == 'New+York':\n",
    "        return 'New York'\n",
    "    else:\n",
    "        return city\n",
    "df['city'] = df['city'].apply(renamed_cities)   "
   ]
  },
  {
   "cell_type": "code",
   "execution_count": 15,
   "metadata": {
    "collapsed": false
   },
   "outputs": [
    {
     "data": {
      "text/plain": [
       "array(['Denver', 'Austin', 'Seattle', 'Philadelphia', 'Palo Alto',\n",
       "       'Pittsburgh', 'Miami', 'Chicago', 'Dallas', 'San Diego', 'New York',\n",
       "       'Boston', 'Los Angeles', 'Phoenix', 'Houston', 'Portland',\n",
       "       'San Francisco', 'Atlanta'], dtype=object)"
      ]
     },
     "execution_count": 15,
     "metadata": {},
     "output_type": "execute_result"
    }
   ],
   "source": [
    "df['city'].unique()"
   ]
  },
  {
   "cell_type": "code",
   "execution_count": 16,
   "metadata": {
    "collapsed": false,
    "scrolled": true
   },
   "outputs": [
    {
     "data": {
      "text/html": [
       "<div>\n",
       "<table border=\"1\" class=\"dataframe\">\n",
       "  <thead>\n",
       "    <tr>\n",
       "      <th></th>\n",
       "      <th colspan=\"2\" halign=\"left\">parsed_salary</th>\n",
       "    </tr>\n",
       "    <tr>\n",
       "      <th></th>\n",
       "      <th>mean</th>\n",
       "      <th>median</th>\n",
       "    </tr>\n",
       "    <tr>\n",
       "      <th>city</th>\n",
       "      <th></th>\n",
       "      <th></th>\n",
       "    </tr>\n",
       "  </thead>\n",
       "  <tbody>\n",
       "    <tr>\n",
       "      <th>Atlanta</th>\n",
       "      <td>85279.552632</td>\n",
       "      <td>80000.00</td>\n",
       "    </tr>\n",
       "    <tr>\n",
       "      <th>Austin</th>\n",
       "      <td>96571.428571</td>\n",
       "      <td>85000.00</td>\n",
       "    </tr>\n",
       "    <tr>\n",
       "      <th>Boston</th>\n",
       "      <td>116635.904255</td>\n",
       "      <td>117234.50</td>\n",
       "    </tr>\n",
       "    <tr>\n",
       "      <th>Chicago</th>\n",
       "      <td>118959.750000</td>\n",
       "      <td>120000.00</td>\n",
       "    </tr>\n",
       "    <tr>\n",
       "      <th>Dallas</th>\n",
       "      <td>97958.333333</td>\n",
       "      <td>90000.00</td>\n",
       "    </tr>\n",
       "    <tr>\n",
       "      <th>Denver</th>\n",
       "      <td>78196.441176</td>\n",
       "      <td>75000.00</td>\n",
       "    </tr>\n",
       "    <tr>\n",
       "      <th>Houston</th>\n",
       "      <td>64405.333333</td>\n",
       "      <td>67500.00</td>\n",
       "    </tr>\n",
       "    <tr>\n",
       "      <th>Los Angeles</th>\n",
       "      <td>112636.260870</td>\n",
       "      <td>101654.50</td>\n",
       "    </tr>\n",
       "    <tr>\n",
       "      <th>Miami</th>\n",
       "      <td>76795.833333</td>\n",
       "      <td>85000.00</td>\n",
       "    </tr>\n",
       "    <tr>\n",
       "      <th>New York</th>\n",
       "      <td>107889.147059</td>\n",
       "      <td>85019.25</td>\n",
       "    </tr>\n",
       "    <tr>\n",
       "      <th>Palo Alto</th>\n",
       "      <td>117267.333333</td>\n",
       "      <td>130000.00</td>\n",
       "    </tr>\n",
       "    <tr>\n",
       "      <th>Philadelphia</th>\n",
       "      <td>105545.454545</td>\n",
       "      <td>110000.00</td>\n",
       "    </tr>\n",
       "    <tr>\n",
       "      <th>Phoenix</th>\n",
       "      <td>55786.083333</td>\n",
       "      <td>44375.00</td>\n",
       "    </tr>\n",
       "    <tr>\n",
       "      <th>Pittsburgh</th>\n",
       "      <td>38658.666667</td>\n",
       "      <td>39390.00</td>\n",
       "    </tr>\n",
       "    <tr>\n",
       "      <th>Portland</th>\n",
       "      <td>78195.500000</td>\n",
       "      <td>78195.50</td>\n",
       "    </tr>\n",
       "    <tr>\n",
       "      <th>San Diego</th>\n",
       "      <td>94478.600000</td>\n",
       "      <td>81434.25</td>\n",
       "    </tr>\n",
       "    <tr>\n",
       "      <th>San Francisco</th>\n",
       "      <td>141321.521277</td>\n",
       "      <td>145000.00</td>\n",
       "    </tr>\n",
       "    <tr>\n",
       "      <th>Seattle</th>\n",
       "      <td>111225.210526</td>\n",
       "      <td>120000.00</td>\n",
       "    </tr>\n",
       "  </tbody>\n",
       "</table>\n",
       "</div>"
      ],
      "text/plain": [
       "               parsed_salary           \n",
       "                        mean     median\n",
       "city                                   \n",
       "Atlanta         85279.552632   80000.00\n",
       "Austin          96571.428571   85000.00\n",
       "Boston         116635.904255  117234.50\n",
       "Chicago        118959.750000  120000.00\n",
       "Dallas          97958.333333   90000.00\n",
       "Denver          78196.441176   75000.00\n",
       "Houston         64405.333333   67500.00\n",
       "Los Angeles    112636.260870  101654.50\n",
       "Miami           76795.833333   85000.00\n",
       "New York       107889.147059   85019.25\n",
       "Palo Alto      117267.333333  130000.00\n",
       "Philadelphia   105545.454545  110000.00\n",
       "Phoenix         55786.083333   44375.00\n",
       "Pittsburgh      38658.666667   39390.00\n",
       "Portland        78195.500000   78195.50\n",
       "San Diego       94478.600000   81434.25\n",
       "San Francisco  141321.521277  145000.00\n",
       "Seattle        111225.210526  120000.00"
      ]
     },
     "execution_count": 16,
     "metadata": {},
     "output_type": "execute_result"
    }
   ],
   "source": [
    "pivottable = pd.pivot_table(df, index=[\"city\"], values=[\"parsed_salary\"], \n",
    "                               aggfunc=(np.mean, np.median))\n",
    "pivottable"
   ]
  },
  {
   "cell_type": "code",
   "execution_count": 17,
   "metadata": {
    "collapsed": false
   },
   "outputs": [
    {
     "data": {
      "text/plain": [
       "100000.0"
      ]
     },
     "execution_count": 17,
     "metadata": {},
     "output_type": "execute_result"
    }
   ],
   "source": [
    "median_salary = df['parsed_salary'].median()\n",
    "median_salary"
   ]
  },
  {
   "cell_type": "code",
   "execution_count": 18,
   "metadata": {
    "collapsed": false
   },
   "outputs": [
    {
     "data": {
      "text/plain": [
       "107762.69581280788"
      ]
     },
     "execution_count": 18,
     "metadata": {},
     "output_type": "execute_result"
    }
   ],
   "source": [
    "mean_salary = df['parsed_salary'].mean()\n",
    "mean_salary"
   ]
  },
  {
   "cell_type": "markdown",
   "metadata": {
    "focus": false,
    "id": "a7afb2c0-d41e-4779-8216-91cd8dd4473f"
   },
   "source": [
    "#### Thought experiment: What is the baseline accuracy for this model?"
   ]
  },
  {
   "cell_type": "markdown",
   "metadata": {
    "collapsed": true,
    "focus": false,
    "id": "87a17d3d-b7f4-4747-9f75-f9af1d18a174"
   },
   "source": [
    "Total mean salary and median salary are very similar.  To keep things simple, we will be using the median salary of $100,000.  This means our baseline accuracy would be 50% - 50% of the jobs fall below and above the median salary."
   ]
  },
  {
   "cell_type": "markdown",
   "metadata": {
    "focus": false,
    "id": "4fb29de2-5b98-474c-a4ad-5170b72b9aea"
   },
   "source": [
    "#### Create a Logistic Regression model to predict High/Low salary using statsmodel. Start by ONLY using the location as a feature. Display the coefficients and write a short summary of what they mean."
   ]
  },
  {
   "cell_type": "code",
   "execution_count": 19,
   "metadata": {
    "collapsed": true
   },
   "outputs": [],
   "source": [
    "import statsmodels.formula.api as smf"
   ]
  },
  {
   "cell_type": "code",
   "execution_count": 20,
   "metadata": {
    "collapsed": true
   },
   "outputs": [],
   "source": [
    "# create target vector column.\n",
    "# add binary values for salaries. 1 if median salary is above $100,000, 0 if it is below.\n",
    "def high_salary(salary):\n",
    "    if salary > df['parsed_salary'].median():\n",
    "        return 1\n",
    "    else:\n",
    "        return 0\n",
    "    \n",
    "df['binary_salary']=df['parsed_salary'].apply(high_salary)\n",
    "\n"
   ]
  },
  {
   "cell_type": "code",
   "execution_count": 21,
   "metadata": {
    "collapsed": false,
    "scrolled": false
   },
   "outputs": [
    {
     "data": {
      "text/html": [
       "<table class=\"simpletable\">\n",
       "<caption>OLS Regression Results</caption>\n",
       "<tr>\n",
       "  <th>Dep. Variable:</th>      <td>binary_salary</td>  <th>  R-squared:         </th> <td>   0.168</td>\n",
       "</tr>\n",
       "<tr>\n",
       "  <th>Model:</th>                   <td>OLS</td>       <th>  Adj. R-squared:    </th> <td>   0.133</td>\n",
       "</tr>\n",
       "<tr>\n",
       "  <th>Method:</th>             <td>Least Squares</td>  <th>  F-statistic:       </th> <td>   4.707</td>\n",
       "</tr>\n",
       "<tr>\n",
       "  <th>Date:</th>             <td>Sun, 15 Jan 2017</td> <th>  Prob (F-statistic):</th> <td>4.00e-09</td>\n",
       "</tr>\n",
       "<tr>\n",
       "  <th>Time:</th>                 <td>23:26:05</td>     <th>  Log-Likelihood:    </th> <td> -261.31</td>\n",
       "</tr>\n",
       "<tr>\n",
       "  <th>No. Observations:</th>      <td>   413</td>      <th>  AIC:               </th> <td>   558.6</td>\n",
       "</tr>\n",
       "<tr>\n",
       "  <th>Df Residuals:</th>          <td>   395</td>      <th>  BIC:               </th> <td>   631.0</td>\n",
       "</tr>\n",
       "<tr>\n",
       "  <th>Df Model:</th>              <td>    17</td>      <th>                     </th>     <td> </td>   \n",
       "</tr>\n",
       "<tr>\n",
       "  <th>Covariance Type:</th>      <td>nonrobust</td>    <th>                     </th>     <td> </td>   \n",
       "</tr>\n",
       "</table>\n",
       "<table class=\"simpletable\">\n",
       "<tr>\n",
       "            <td></td>               <th>coef</th>     <th>std err</th>      <th>t</th>      <th>P>|t|</th> <th>[95.0% Conf. Int.]</th> \n",
       "</tr>\n",
       "<tr>\n",
       "  <th>Intercept</th>             <td>    0.2105</td> <td>    0.107</td> <td>    1.970</td> <td> 0.050</td> <td>    0.000     0.421</td>\n",
       "</tr>\n",
       "<tr>\n",
       "  <th>city[T.Austin]</th>        <td>    0.2180</td> <td>    0.206</td> <td>    1.059</td> <td> 0.290</td> <td>   -0.187     0.623</td>\n",
       "</tr>\n",
       "<tr>\n",
       "  <th>city[T.Boston]</th>        <td>    0.4703</td> <td>    0.127</td> <td>    3.714</td> <td> 0.000</td> <td>    0.221     0.719</td>\n",
       "</tr>\n",
       "<tr>\n",
       "  <th>city[T.Chicago]</th>       <td>    0.3173</td> <td>    0.132</td> <td>    2.402</td> <td> 0.017</td> <td>    0.058     0.577</td>\n",
       "</tr>\n",
       "<tr>\n",
       "  <th>city[T.Dallas]</th>        <td>    0.1228</td> <td>    0.172</td> <td>    0.715</td> <td> 0.475</td> <td>   -0.215     0.460</td>\n",
       "</tr>\n",
       "<tr>\n",
       "  <th>city[T.Denver]</th>        <td>   -0.0341</td> <td>    0.156</td> <td>   -0.219</td> <td> 0.827</td> <td>   -0.340     0.272</td>\n",
       "</tr>\n",
       "<tr>\n",
       "  <th>city[T.Houston]</th>       <td>   -0.2105</td> <td>    0.188</td> <td>   -1.117</td> <td> 0.265</td> <td>   -0.581     0.160</td>\n",
       "</tr>\n",
       "<tr>\n",
       "  <th>city[T.Los Angeles]</th>   <td>    0.2895</td> <td>    0.143</td> <td>    2.024</td> <td> 0.044</td> <td>    0.008     0.571</td>\n",
       "</tr>\n",
       "<tr>\n",
       "  <th>city[T.Miami]</th>         <td>   -0.0439</td> <td>    0.218</td> <td>   -0.201</td> <td> 0.841</td> <td>   -0.473     0.385</td>\n",
       "</tr>\n",
       "<tr>\n",
       "  <th>city[T.New York]</th>      <td>    0.2069</td> <td>    0.116</td> <td>    1.779</td> <td> 0.076</td> <td>   -0.022     0.436</td>\n",
       "</tr>\n",
       "<tr>\n",
       "  <th>city[T.Palo Alto]</th>     <td>    0.4932</td> <td>    0.139</td> <td>    3.536</td> <td> 0.000</td> <td>    0.219     0.767</td>\n",
       "</tr>\n",
       "<tr>\n",
       "  <th>city[T.Philadelphia]</th>  <td>    0.4258</td> <td>    0.176</td> <td>    2.413</td> <td> 0.016</td> <td>    0.079     0.773</td>\n",
       "</tr>\n",
       "<tr>\n",
       "  <th>city[T.Phoenix]</th>       <td>   -0.2105</td> <td>    0.218</td> <td>   -0.965</td> <td> 0.335</td> <td>   -0.639     0.218</td>\n",
       "</tr>\n",
       "<tr>\n",
       "  <th>city[T.Pittsburgh]</th>    <td>   -0.2105</td> <td>    0.188</td> <td>   -1.117</td> <td> 0.265</td> <td>   -0.581     0.160</td>\n",
       "</tr>\n",
       "<tr>\n",
       "  <th>city[T.Portland]</th>      <td>   -0.2105</td> <td>    0.478</td> <td>   -0.440</td> <td> 0.660</td> <td>   -1.150     0.729</td>\n",
       "</tr>\n",
       "<tr>\n",
       "  <th>city[T.San Diego]</th>     <td>    0.1895</td> <td>    0.182</td> <td>    1.041</td> <td> 0.298</td> <td>   -0.168     0.547</td>\n",
       "</tr>\n",
       "<tr>\n",
       "  <th>city[T.San Francisco]</th> <td>    0.5446</td> <td>    0.126</td> <td>    4.326</td> <td> 0.000</td> <td>    0.297     0.792</td>\n",
       "</tr>\n",
       "<tr>\n",
       "  <th>city[T.Seattle]</th>       <td>    0.2895</td> <td>    0.149</td> <td>    1.940</td> <td> 0.053</td> <td>   -0.004     0.583</td>\n",
       "</tr>\n",
       "</table>\n",
       "<table class=\"simpletable\">\n",
       "<tr>\n",
       "  <th>Omnibus:</th>       <td> 0.201</td> <th>  Durbin-Watson:     </th> <td>   1.822</td>\n",
       "</tr>\n",
       "<tr>\n",
       "  <th>Prob(Omnibus):</th> <td> 0.905</td> <th>  Jarque-Bera (JB):  </th> <td>  35.898</td>\n",
       "</tr>\n",
       "<tr>\n",
       "  <th>Skew:</th>          <td>-0.053</td> <th>  Prob(JB):          </th> <td>1.60e-08</td>\n",
       "</tr>\n",
       "<tr>\n",
       "  <th>Kurtosis:</th>      <td> 1.560</td> <th>  Cond. No.          </th> <td>    23.9</td>\n",
       "</tr>\n",
       "</table>"
      ],
      "text/plain": [
       "<class 'statsmodels.iolib.summary.Summary'>\n",
       "\"\"\"\n",
       "                            OLS Regression Results                            \n",
       "==============================================================================\n",
       "Dep. Variable:          binary_salary   R-squared:                       0.168\n",
       "Model:                            OLS   Adj. R-squared:                  0.133\n",
       "Method:                 Least Squares   F-statistic:                     4.707\n",
       "Date:                Sun, 15 Jan 2017   Prob (F-statistic):           4.00e-09\n",
       "Time:                        23:26:05   Log-Likelihood:                -261.31\n",
       "No. Observations:                 413   AIC:                             558.6\n",
       "Df Residuals:                     395   BIC:                             631.0\n",
       "Df Model:                          17                                         \n",
       "Covariance Type:            nonrobust                                         \n",
       "=========================================================================================\n",
       "                            coef    std err          t      P>|t|      [95.0% Conf. Int.]\n",
       "-----------------------------------------------------------------------------------------\n",
       "Intercept                 0.2105      0.107      1.970      0.050         0.000     0.421\n",
       "city[T.Austin]            0.2180      0.206      1.059      0.290        -0.187     0.623\n",
       "city[T.Boston]            0.4703      0.127      3.714      0.000         0.221     0.719\n",
       "city[T.Chicago]           0.3173      0.132      2.402      0.017         0.058     0.577\n",
       "city[T.Dallas]            0.1228      0.172      0.715      0.475        -0.215     0.460\n",
       "city[T.Denver]           -0.0341      0.156     -0.219      0.827        -0.340     0.272\n",
       "city[T.Houston]          -0.2105      0.188     -1.117      0.265        -0.581     0.160\n",
       "city[T.Los Angeles]       0.2895      0.143      2.024      0.044         0.008     0.571\n",
       "city[T.Miami]            -0.0439      0.218     -0.201      0.841        -0.473     0.385\n",
       "city[T.New York]          0.2069      0.116      1.779      0.076        -0.022     0.436\n",
       "city[T.Palo Alto]         0.4932      0.139      3.536      0.000         0.219     0.767\n",
       "city[T.Philadelphia]      0.4258      0.176      2.413      0.016         0.079     0.773\n",
       "city[T.Phoenix]          -0.2105      0.218     -0.965      0.335        -0.639     0.218\n",
       "city[T.Pittsburgh]       -0.2105      0.188     -1.117      0.265        -0.581     0.160\n",
       "city[T.Portland]         -0.2105      0.478     -0.440      0.660        -1.150     0.729\n",
       "city[T.San Diego]         0.1895      0.182      1.041      0.298        -0.168     0.547\n",
       "city[T.San Francisco]     0.5446      0.126      4.326      0.000         0.297     0.792\n",
       "city[T.Seattle]           0.2895      0.149      1.940      0.053        -0.004     0.583\n",
       "==============================================================================\n",
       "Omnibus:                        0.201   Durbin-Watson:                   1.822\n",
       "Prob(Omnibus):                  0.905   Jarque-Bera (JB):               35.898\n",
       "Skew:                          -0.053   Prob(JB):                     1.60e-08\n",
       "Kurtosis:                       1.560   Cond. No.                         23.9\n",
       "==============================================================================\n",
       "\n",
       "Warnings:\n",
       "[1] Standard Errors assume that the covariance matrix of the errors is correctly specified.\n",
       "\"\"\""
      ]
     },
     "execution_count": 21,
     "metadata": {},
     "output_type": "execute_result"
    }
   ],
   "source": [
    "model = smf.ols('binary_salary ~ city', data=df).fit().summary()\n",
    "model"
   ]
  },
  {
   "cell_type": "markdown",
   "metadata": {},
   "source": [
    "The coefficients listed for each city indicate how the average salary for that city relates to the median salary. A positive value coeffiecient indicated the city's average salary is higher than the median, and lower would be less.  The absolute value of the coefficients indicates the magnitude of how much greater than or less than that city's average salary falls from the median."
   ]
  },
  {
   "cell_type": "markdown",
   "metadata": {
    "focus": false,
    "id": "0ef04f32-419c-4bf2-baf7-48201f03df89"
   },
   "source": [
    "#### Create a few new variables in your dataframe to represent interesting features of a job title.\n",
    "- For example, create a feature that represents whether 'Senior' is in the title \n",
    "- or whether 'Manager' is in the title. \n",
    "- Then build a new Logistic Regression model with these features. Do they add any value? \n"
   ]
  },
  {
   "cell_type": "code",
   "execution_count": 22,
   "metadata": {
    "collapsed": false,
    "focus": false,
    "id": "068dc1cf-7fd7-4f27-a1f1-7f0a5a221d29",
    "scrolled": false
   },
   "outputs": [
    {
     "data": {
      "text/html": [
       "<div>\n",
       "<table border=\"1\" class=\"dataframe\">\n",
       "  <thead>\n",
       "    <tr style=\"text-align: right;\">\n",
       "      <th></th>\n",
       "      <th>city</th>\n",
       "      <th>company</th>\n",
       "      <th>salary</th>\n",
       "      <th>summary</th>\n",
       "      <th>title</th>\n",
       "      <th>parsed_salary</th>\n",
       "      <th>binary_salary</th>\n",
       "      <th>contains_senior</th>\n",
       "    </tr>\n",
       "  </thead>\n",
       "  <tbody>\n",
       "    <tr>\n",
       "      <th>0</th>\n",
       "      <td>Denver</td>\n",
       "      <td>Department Of The Interior</td>\n",
       "      <td>$76,341 - $99,243 a year</td>\n",
       "      <td>Would you like to join the more than 10,000 sc...</td>\n",
       "      <td>statistician, gs-1350-12 (deu-perm-ds)</td>\n",
       "      <td>87792.0</td>\n",
       "      <td>0</td>\n",
       "      <td>False</td>\n",
       "    </tr>\n",
       "    <tr>\n",
       "      <th>1</th>\n",
       "      <td>Denver</td>\n",
       "      <td>Department Of The Interior</td>\n",
       "      <td>$71,012 - $99,243 a year</td>\n",
       "      <td>Investigate potential uses of geospatial data ...</td>\n",
       "      <td>interdisciplinary cartographer/geographer - gs...</td>\n",
       "      <td>85127.5</td>\n",
       "      <td>0</td>\n",
       "      <td>False</td>\n",
       "    </tr>\n",
       "    <tr>\n",
       "      <th>2</th>\n",
       "      <td>Denver</td>\n",
       "      <td>Mental Health Center of Denver</td>\n",
       "      <td>$70,000 - $80,000 a year</td>\n",
       "      <td>Advise the Data Developer with regard to creat...</td>\n",
       "      <td>financial data scientist</td>\n",
       "      <td>75000.0</td>\n",
       "      <td>0</td>\n",
       "      <td>False</td>\n",
       "    </tr>\n",
       "    <tr>\n",
       "      <th>3</th>\n",
       "      <td>Denver</td>\n",
       "      <td>Denver Public Schools</td>\n",
       "      <td>$62,712 - $75,255 a year</td>\n",
       "      <td>Portal managers on student outcome data report...</td>\n",
       "      <td>senior research analyst</td>\n",
       "      <td>68983.5</td>\n",
       "      <td>0</td>\n",
       "      <td>True</td>\n",
       "    </tr>\n",
       "    <tr>\n",
       "      <th>4</th>\n",
       "      <td>Denver</td>\n",
       "      <td>University of Colorado</td>\n",
       "      <td>$25,000 - $29,000 a year</td>\n",
       "      <td>Experience entering and manipulating data in a...</td>\n",
       "      <td>animal care i</td>\n",
       "      <td>27000.0</td>\n",
       "      <td>0</td>\n",
       "      <td>False</td>\n",
       "    </tr>\n",
       "  </tbody>\n",
       "</table>\n",
       "</div>"
      ],
      "text/plain": [
       "     city                         company                    salary  \\\n",
       "0  Denver      Department Of The Interior  $76,341 - $99,243 a year   \n",
       "1  Denver      Department Of The Interior  $71,012 - $99,243 a year   \n",
       "2  Denver  Mental Health Center of Denver  $70,000 - $80,000 a year   \n",
       "3  Denver           Denver Public Schools  $62,712 - $75,255 a year   \n",
       "4  Denver          University of Colorado  $25,000 - $29,000 a year   \n",
       "\n",
       "                                             summary  \\\n",
       "0  Would you like to join the more than 10,000 sc...   \n",
       "1  Investigate potential uses of geospatial data ...   \n",
       "2  Advise the Data Developer with regard to creat...   \n",
       "3  Portal managers on student outcome data report...   \n",
       "4  Experience entering and manipulating data in a...   \n",
       "\n",
       "                                               title  parsed_salary  \\\n",
       "0             statistician, gs-1350-12 (deu-perm-ds)        87792.0   \n",
       "1  interdisciplinary cartographer/geographer - gs...        85127.5   \n",
       "2                           financial data scientist        75000.0   \n",
       "3                            senior research analyst        68983.5   \n",
       "4                                      animal care i        27000.0   \n",
       "\n",
       "   binary_salary contains_senior  \n",
       "0              0           False  \n",
       "1              0           False  \n",
       "2              0           False  \n",
       "3              0            True  \n",
       "4              0           False  "
      ]
     },
     "execution_count": 22,
     "metadata": {},
     "output_type": "execute_result"
    }
   ],
   "source": [
    "# find all titles with Senior or SR\n",
    "def lower(x):\n",
    "    return x.lower()\n",
    "df['title']=df['title'].apply(lower)\n",
    "df['contains_senior'] = df['title'].str.contains('senior','sr')\n",
    "df.head()"
   ]
  },
  {
   "cell_type": "code",
   "execution_count": 23,
   "metadata": {
    "collapsed": false
   },
   "outputs": [
    {
     "data": {
      "text/html": [
       "<div>\n",
       "<table border=\"1\" class=\"dataframe\">\n",
       "  <thead>\n",
       "    <tr style=\"text-align: right;\">\n",
       "      <th></th>\n",
       "      <th>city</th>\n",
       "      <th>company</th>\n",
       "      <th>salary</th>\n",
       "      <th>summary</th>\n",
       "      <th>title</th>\n",
       "      <th>parsed_salary</th>\n",
       "      <th>binary_salary</th>\n",
       "      <th>contains_senior</th>\n",
       "      <th>contains_manager</th>\n",
       "    </tr>\n",
       "  </thead>\n",
       "  <tbody>\n",
       "    <tr>\n",
       "      <th>0</th>\n",
       "      <td>Denver</td>\n",
       "      <td>Department Of The Interior</td>\n",
       "      <td>$76,341 - $99,243 a year</td>\n",
       "      <td>Would you like to join the more than 10,000 sc...</td>\n",
       "      <td>statistician, gs-1350-12 (deu-perm-ds)</td>\n",
       "      <td>87792.0</td>\n",
       "      <td>0</td>\n",
       "      <td>False</td>\n",
       "      <td>False</td>\n",
       "    </tr>\n",
       "    <tr>\n",
       "      <th>1</th>\n",
       "      <td>Denver</td>\n",
       "      <td>Department Of The Interior</td>\n",
       "      <td>$71,012 - $99,243 a year</td>\n",
       "      <td>Investigate potential uses of geospatial data ...</td>\n",
       "      <td>interdisciplinary cartographer/geographer - gs...</td>\n",
       "      <td>85127.5</td>\n",
       "      <td>0</td>\n",
       "      <td>False</td>\n",
       "      <td>False</td>\n",
       "    </tr>\n",
       "    <tr>\n",
       "      <th>2</th>\n",
       "      <td>Denver</td>\n",
       "      <td>Mental Health Center of Denver</td>\n",
       "      <td>$70,000 - $80,000 a year</td>\n",
       "      <td>Advise the Data Developer with regard to creat...</td>\n",
       "      <td>financial data scientist</td>\n",
       "      <td>75000.0</td>\n",
       "      <td>0</td>\n",
       "      <td>False</td>\n",
       "      <td>False</td>\n",
       "    </tr>\n",
       "    <tr>\n",
       "      <th>3</th>\n",
       "      <td>Denver</td>\n",
       "      <td>Denver Public Schools</td>\n",
       "      <td>$62,712 - $75,255 a year</td>\n",
       "      <td>Portal managers on student outcome data report...</td>\n",
       "      <td>senior research analyst</td>\n",
       "      <td>68983.5</td>\n",
       "      <td>0</td>\n",
       "      <td>True</td>\n",
       "      <td>False</td>\n",
       "    </tr>\n",
       "    <tr>\n",
       "      <th>4</th>\n",
       "      <td>Denver</td>\n",
       "      <td>University of Colorado</td>\n",
       "      <td>$25,000 - $29,000 a year</td>\n",
       "      <td>Experience entering and manipulating data in a...</td>\n",
       "      <td>animal care i</td>\n",
       "      <td>27000.0</td>\n",
       "      <td>0</td>\n",
       "      <td>False</td>\n",
       "      <td>False</td>\n",
       "    </tr>\n",
       "  </tbody>\n",
       "</table>\n",
       "</div>"
      ],
      "text/plain": [
       "     city                         company                    salary  \\\n",
       "0  Denver      Department Of The Interior  $76,341 - $99,243 a year   \n",
       "1  Denver      Department Of The Interior  $71,012 - $99,243 a year   \n",
       "2  Denver  Mental Health Center of Denver  $70,000 - $80,000 a year   \n",
       "3  Denver           Denver Public Schools  $62,712 - $75,255 a year   \n",
       "4  Denver          University of Colorado  $25,000 - $29,000 a year   \n",
       "\n",
       "                                             summary  \\\n",
       "0  Would you like to join the more than 10,000 sc...   \n",
       "1  Investigate potential uses of geospatial data ...   \n",
       "2  Advise the Data Developer with regard to creat...   \n",
       "3  Portal managers on student outcome data report...   \n",
       "4  Experience entering and manipulating data in a...   \n",
       "\n",
       "                                               title  parsed_salary  \\\n",
       "0             statistician, gs-1350-12 (deu-perm-ds)        87792.0   \n",
       "1  interdisciplinary cartographer/geographer - gs...        85127.5   \n",
       "2                           financial data scientist        75000.0   \n",
       "3                            senior research analyst        68983.5   \n",
       "4                                      animal care i        27000.0   \n",
       "\n",
       "   binary_salary contains_senior contains_manager  \n",
       "0              0           False            False  \n",
       "1              0           False            False  \n",
       "2              0           False            False  \n",
       "3              0            True            False  \n",
       "4              0           False            False  "
      ]
     },
     "execution_count": 23,
     "metadata": {},
     "output_type": "execute_result"
    }
   ],
   "source": [
    "# find all managemenet-level titles \n",
    "def lower(x):\n",
    "    return x.lower()\n",
    "df['title']=df['title'].apply(lower)\n",
    "df['contains_manager'] = df['title'].str.contains('manager','mgr')\n",
    "df.head()"
   ]
  },
  {
   "cell_type": "code",
   "execution_count": 24,
   "metadata": {
    "collapsed": false
   },
   "outputs": [
    {
     "data": {
      "text/html": [
       "<table class=\"simpletable\">\n",
       "<caption>OLS Regression Results</caption>\n",
       "<tr>\n",
       "  <th>Dep. Variable:</th>      <td>binary_salary</td>  <th>  R-squared:         </th> <td>   0.018</td>\n",
       "</tr>\n",
       "<tr>\n",
       "  <th>Model:</th>                   <td>OLS</td>       <th>  Adj. R-squared:    </th> <td>   0.015</td>\n",
       "</tr>\n",
       "<tr>\n",
       "  <th>Method:</th>             <td>Least Squares</td>  <th>  F-statistic:       </th> <td>   7.431</td>\n",
       "</tr>\n",
       "<tr>\n",
       "  <th>Date:</th>             <td>Sun, 15 Jan 2017</td> <th>  Prob (F-statistic):</th>  <td>0.00669</td>\n",
       "</tr>\n",
       "<tr>\n",
       "  <th>Time:</th>                 <td>23:26:05</td>     <th>  Log-Likelihood:    </th> <td> -295.70</td>\n",
       "</tr>\n",
       "<tr>\n",
       "  <th>No. Observations:</th>      <td>   413</td>      <th>  AIC:               </th> <td>   595.4</td>\n",
       "</tr>\n",
       "<tr>\n",
       "  <th>Df Residuals:</th>          <td>   411</td>      <th>  BIC:               </th> <td>   603.4</td>\n",
       "</tr>\n",
       "<tr>\n",
       "  <th>Df Model:</th>              <td>     1</td>      <th>                     </th>     <td> </td>   \n",
       "</tr>\n",
       "<tr>\n",
       "  <th>Covariance Type:</th>      <td>nonrobust</td>    <th>                     </th>     <td> </td>   \n",
       "</tr>\n",
       "</table>\n",
       "<table class=\"simpletable\">\n",
       "<tr>\n",
       "             <td></td>                <th>coef</th>     <th>std err</th>      <th>t</th>      <th>P>|t|</th> <th>[95.0% Conf. Int.]</th> \n",
       "</tr>\n",
       "<tr>\n",
       "  <th>Intercept</th>               <td>    0.4517</td> <td>    0.026</td> <td>   17.075</td> <td> 0.000</td> <td>    0.400     0.504</td>\n",
       "</tr>\n",
       "<tr>\n",
       "  <th>contains_senior[T.True]</th> <td>    0.1876</td> <td>    0.069</td> <td>    2.726</td> <td> 0.007</td> <td>    0.052     0.323</td>\n",
       "</tr>\n",
       "</table>\n",
       "<table class=\"simpletable\">\n",
       "<tr>\n",
       "  <th>Omnibus:</th>       <td> 0.572</td> <th>  Durbin-Watson:     </th> <td>   1.548</td>\n",
       "</tr>\n",
       "<tr>\n",
       "  <th>Prob(Omnibus):</th> <td> 0.751</td> <th>  Jarque-Bera (JB):  </th> <td>  64.164</td>\n",
       "</tr>\n",
       "<tr>\n",
       "  <th>Skew:</th>          <td> 0.090</td> <th>  Prob(JB):          </th> <td>1.17e-14</td>\n",
       "</tr>\n",
       "<tr>\n",
       "  <th>Kurtosis:</th>      <td> 1.077</td> <th>  Cond. No.          </th> <td>    2.89</td>\n",
       "</tr>\n",
       "</table>"
      ],
      "text/plain": [
       "<class 'statsmodels.iolib.summary.Summary'>\n",
       "\"\"\"\n",
       "                            OLS Regression Results                            \n",
       "==============================================================================\n",
       "Dep. Variable:          binary_salary   R-squared:                       0.018\n",
       "Model:                            OLS   Adj. R-squared:                  0.015\n",
       "Method:                 Least Squares   F-statistic:                     7.431\n",
       "Date:                Sun, 15 Jan 2017   Prob (F-statistic):            0.00669\n",
       "Time:                        23:26:05   Log-Likelihood:                -295.70\n",
       "No. Observations:                 413   AIC:                             595.4\n",
       "Df Residuals:                     411   BIC:                             603.4\n",
       "Df Model:                           1                                         \n",
       "Covariance Type:            nonrobust                                         \n",
       "===========================================================================================\n",
       "                              coef    std err          t      P>|t|      [95.0% Conf. Int.]\n",
       "-------------------------------------------------------------------------------------------\n",
       "Intercept                   0.4517      0.026     17.075      0.000         0.400     0.504\n",
       "contains_senior[T.True]     0.1876      0.069      2.726      0.007         0.052     0.323\n",
       "==============================================================================\n",
       "Omnibus:                        0.572   Durbin-Watson:                   1.548\n",
       "Prob(Omnibus):                  0.751   Jarque-Bera (JB):               64.164\n",
       "Skew:                           0.090   Prob(JB):                     1.17e-14\n",
       "Kurtosis:                       1.077   Cond. No.                         2.89\n",
       "==============================================================================\n",
       "\n",
       "Warnings:\n",
       "[1] Standard Errors assume that the covariance matrix of the errors is correctly specified.\n",
       "\"\"\""
      ]
     },
     "execution_count": 24,
     "metadata": {},
     "output_type": "execute_result"
    }
   ],
   "source": [
    "model2 = smf.ols('binary_salary ~ contains_senior', data=df).fit().summary()\n",
    "model2"
   ]
  },
  {
   "cell_type": "code",
   "execution_count": 25,
   "metadata": {
    "collapsed": false
   },
   "outputs": [
    {
     "data": {
      "text/html": [
       "<table class=\"simpletable\">\n",
       "<caption>OLS Regression Results</caption>\n",
       "<tr>\n",
       "  <th>Dep. Variable:</th>      <td>binary_salary</td>  <th>  R-squared:         </th> <td>   0.002</td>\n",
       "</tr>\n",
       "<tr>\n",
       "  <th>Model:</th>                   <td>OLS</td>       <th>  Adj. R-squared:    </th> <td>  -0.001</td>\n",
       "</tr>\n",
       "<tr>\n",
       "  <th>Method:</th>             <td>Least Squares</td>  <th>  F-statistic:       </th> <td>  0.6704</td>\n",
       "</tr>\n",
       "<tr>\n",
       "  <th>Date:</th>             <td>Sun, 15 Jan 2017</td> <th>  Prob (F-statistic):</th>  <td> 0.413</td> \n",
       "</tr>\n",
       "<tr>\n",
       "  <th>Time:</th>                 <td>23:26:06</td>     <th>  Log-Likelihood:    </th> <td> -299.07</td>\n",
       "</tr>\n",
       "<tr>\n",
       "  <th>No. Observations:</th>      <td>   413</td>      <th>  AIC:               </th> <td>   602.1</td>\n",
       "</tr>\n",
       "<tr>\n",
       "  <th>Df Residuals:</th>          <td>   411</td>      <th>  BIC:               </th> <td>   610.2</td>\n",
       "</tr>\n",
       "<tr>\n",
       "  <th>Df Model:</th>              <td>     1</td>      <th>                     </th>     <td> </td>   \n",
       "</tr>\n",
       "<tr>\n",
       "  <th>Covariance Type:</th>      <td>nonrobust</td>    <th>                     </th>     <td> </td>   \n",
       "</tr>\n",
       "</table>\n",
       "<table class=\"simpletable\">\n",
       "<tr>\n",
       "              <td></td>                <th>coef</th>     <th>std err</th>      <th>t</th>      <th>P>|t|</th> <th>[95.0% Conf. Int.]</th> \n",
       "</tr>\n",
       "<tr>\n",
       "  <th>Intercept</th>                <td>    0.4845</td> <td>    0.025</td> <td>   19.074</td> <td> 0.000</td> <td>    0.435     0.534</td>\n",
       "</tr>\n",
       "<tr>\n",
       "  <th>contains_manager[T.True]</th> <td>   -0.0845</td> <td>    0.103</td> <td>   -0.819</td> <td> 0.413</td> <td>   -0.288     0.118</td>\n",
       "</tr>\n",
       "</table>\n",
       "<table class=\"simpletable\">\n",
       "<tr>\n",
       "  <th>Omnibus:</th>       <td> 0.474</td> <th>  Durbin-Watson:     </th> <td>   1.535</td>\n",
       "</tr>\n",
       "<tr>\n",
       "  <th>Prob(Omnibus):</th> <td> 0.789</td> <th>  Jarque-Bera (JB):  </th> <td>  68.397</td>\n",
       "</tr>\n",
       "<tr>\n",
       "  <th>Skew:</th>          <td> 0.082</td> <th>  Prob(JB):          </th> <td>1.41e-15</td>\n",
       "</tr>\n",
       "<tr>\n",
       "  <th>Kurtosis:</th>      <td> 1.013</td> <th>  Cond. No.          </th> <td>    4.21</td>\n",
       "</tr>\n",
       "</table>"
      ],
      "text/plain": [
       "<class 'statsmodels.iolib.summary.Summary'>\n",
       "\"\"\"\n",
       "                            OLS Regression Results                            \n",
       "==============================================================================\n",
       "Dep. Variable:          binary_salary   R-squared:                       0.002\n",
       "Model:                            OLS   Adj. R-squared:                 -0.001\n",
       "Method:                 Least Squares   F-statistic:                    0.6704\n",
       "Date:                Sun, 15 Jan 2017   Prob (F-statistic):              0.413\n",
       "Time:                        23:26:06   Log-Likelihood:                -299.07\n",
       "No. Observations:                 413   AIC:                             602.1\n",
       "Df Residuals:                     411   BIC:                             610.2\n",
       "Df Model:                           1                                         \n",
       "Covariance Type:            nonrobust                                         \n",
       "============================================================================================\n",
       "                               coef    std err          t      P>|t|      [95.0% Conf. Int.]\n",
       "--------------------------------------------------------------------------------------------\n",
       "Intercept                    0.4845      0.025     19.074      0.000         0.435     0.534\n",
       "contains_manager[T.True]    -0.0845      0.103     -0.819      0.413        -0.288     0.118\n",
       "==============================================================================\n",
       "Omnibus:                        0.474   Durbin-Watson:                   1.535\n",
       "Prob(Omnibus):                  0.789   Jarque-Bera (JB):               68.397\n",
       "Skew:                           0.082   Prob(JB):                     1.41e-15\n",
       "Kurtosis:                       1.013   Cond. No.                         4.21\n",
       "==============================================================================\n",
       "\n",
       "Warnings:\n",
       "[1] Standard Errors assume that the covariance matrix of the errors is correctly specified.\n",
       "\"\"\""
      ]
     },
     "execution_count": 25,
     "metadata": {},
     "output_type": "execute_result"
    }
   ],
   "source": [
    "model3 = smf.ols('binary_salary ~ contains_manager', data=df).fit().summary()\n",
    "model3"
   ]
  },
  {
   "cell_type": "markdown",
   "metadata": {},
   "source": [
    "Titles containing Senior have more influence on whether or not salary is high than titles containing manager."
   ]
  },
  {
   "cell_type": "code",
   "execution_count": 26,
   "metadata": {
    "collapsed": false,
    "scrolled": false
   },
   "outputs": [
    {
     "data": {
      "text/html": [
       "<table class=\"simpletable\">\n",
       "<caption>OLS Regression Results</caption>\n",
       "<tr>\n",
       "  <th>Dep. Variable:</th>      <td>binary_salary</td>  <th>  R-squared:         </th> <td>   0.180</td>\n",
       "</tr>\n",
       "<tr>\n",
       "  <th>Model:</th>                   <td>OLS</td>       <th>  Adj. R-squared:    </th> <td>   0.141</td>\n",
       "</tr>\n",
       "<tr>\n",
       "  <th>Method:</th>             <td>Least Squares</td>  <th>  F-statistic:       </th> <td>   4.552</td>\n",
       "</tr>\n",
       "<tr>\n",
       "  <th>Date:</th>             <td>Sun, 15 Jan 2017</td> <th>  Prob (F-statistic):</th> <td>1.99e-09</td>\n",
       "</tr>\n",
       "<tr>\n",
       "  <th>Time:</th>                 <td>23:26:06</td>     <th>  Log-Likelihood:    </th> <td> -258.33</td>\n",
       "</tr>\n",
       "<tr>\n",
       "  <th>No. Observations:</th>      <td>   413</td>      <th>  AIC:               </th> <td>   556.7</td>\n",
       "</tr>\n",
       "<tr>\n",
       "  <th>Df Residuals:</th>          <td>   393</td>      <th>  BIC:               </th> <td>   637.1</td>\n",
       "</tr>\n",
       "<tr>\n",
       "  <th>Df Model:</th>              <td>    19</td>      <th>                     </th>     <td> </td>   \n",
       "</tr>\n",
       "<tr>\n",
       "  <th>Covariance Type:</th>      <td>nonrobust</td>    <th>                     </th>     <td> </td>   \n",
       "</tr>\n",
       "</table>\n",
       "<table class=\"simpletable\">\n",
       "<tr>\n",
       "              <td></td>                <th>coef</th>     <th>std err</th>      <th>t</th>      <th>P>|t|</th> <th>[95.0% Conf. Int.]</th> \n",
       "</tr>\n",
       "<tr>\n",
       "  <th>Intercept</th>                <td>    0.2121</td> <td>    0.106</td> <td>    1.992</td> <td> 0.047</td> <td>    0.003     0.421</td>\n",
       "</tr>\n",
       "<tr>\n",
       "  <th>city[T.Austin]</th>           <td>    0.1942</td> <td>    0.205</td> <td>    0.946</td> <td> 0.345</td> <td>   -0.209     0.598</td>\n",
       "</tr>\n",
       "<tr>\n",
       "  <th>city[T.Boston]</th>           <td>    0.4408</td> <td>    0.127</td> <td>    3.479</td> <td> 0.001</td> <td>    0.192     0.690</td>\n",
       "</tr>\n",
       "<tr>\n",
       "  <th>city[T.Chicago]</th>          <td>    0.3009</td> <td>    0.132</td> <td>    2.284</td> <td> 0.023</td> <td>    0.042     0.560</td>\n",
       "</tr>\n",
       "<tr>\n",
       "  <th>city[T.Dallas]</th>           <td>    0.0978</td> <td>    0.171</td> <td>    0.570</td> <td> 0.569</td> <td>   -0.239     0.435</td>\n",
       "</tr>\n",
       "<tr>\n",
       "  <th>city[T.Denver]</th>           <td>   -0.0394</td> <td>    0.155</td> <td>   -0.254</td> <td> 0.800</td> <td>   -0.345     0.266</td>\n",
       "</tr>\n",
       "<tr>\n",
       "  <th>city[T.Houston]</th>          <td>   -0.2434</td> <td>    0.188</td> <td>   -1.293</td> <td> 0.197</td> <td>   -0.614     0.127</td>\n",
       "</tr>\n",
       "<tr>\n",
       "  <th>city[T.Los Angeles]</th>      <td>    0.2761</td> <td>    0.142</td> <td>    1.938</td> <td> 0.053</td> <td>   -0.004     0.556</td>\n",
       "</tr>\n",
       "<tr>\n",
       "  <th>city[T.Miami]</th>            <td>   -0.0974</td> <td>    0.218</td> <td>   -0.446</td> <td> 0.656</td> <td>   -0.527     0.332</td>\n",
       "</tr>\n",
       "<tr>\n",
       "  <th>city[T.New York]</th>         <td>    0.1880</td> <td>    0.116</td> <td>    1.620</td> <td> 0.106</td> <td>   -0.040     0.416</td>\n",
       "</tr>\n",
       "<tr>\n",
       "  <th>city[T.Palo Alto]</th>        <td>    0.4742</td> <td>    0.139</td> <td>    3.409</td> <td> 0.001</td> <td>    0.201     0.748</td>\n",
       "</tr>\n",
       "<tr>\n",
       "  <th>city[T.Philadelphia]</th>     <td>    0.3959</td> <td>    0.176</td> <td>    2.248</td> <td> 0.025</td> <td>    0.050     0.742</td>\n",
       "</tr>\n",
       "<tr>\n",
       "  <th>city[T.Phoenix]</th>          <td>   -0.2121</td> <td>    0.217</td> <td>   -0.977</td> <td> 0.329</td> <td>   -0.639     0.215</td>\n",
       "</tr>\n",
       "<tr>\n",
       "  <th>city[T.Pittsburgh]</th>       <td>   -0.2295</td> <td>    0.188</td> <td>   -1.222</td> <td> 0.223</td> <td>   -0.599     0.140</td>\n",
       "</tr>\n",
       "<tr>\n",
       "  <th>city[T.Portland]</th>         <td>   -0.3681</td> <td>    0.480</td> <td>   -0.766</td> <td> 0.444</td> <td>   -1.312     0.576</td>\n",
       "</tr>\n",
       "<tr>\n",
       "  <th>city[T.San Diego]</th>        <td>    0.1255</td> <td>    0.183</td> <td>    0.685</td> <td> 0.494</td> <td>   -0.234     0.485</td>\n",
       "</tr>\n",
       "<tr>\n",
       "  <th>city[T.San Francisco]</th>    <td>    0.5060</td> <td>    0.126</td> <td>    4.005</td> <td> 0.000</td> <td>    0.258     0.754</td>\n",
       "</tr>\n",
       "<tr>\n",
       "  <th>city[T.Seattle]</th>          <td>    0.2753</td> <td>    0.149</td> <td>    1.851</td> <td> 0.065</td> <td>   -0.017     0.568</td>\n",
       "</tr>\n",
       "<tr>\n",
       "  <th>contains_senior[T.True]</th>  <td>    0.1559</td> <td>    0.067</td> <td>    2.345</td> <td> 0.020</td> <td>    0.025     0.287</td>\n",
       "</tr>\n",
       "<tr>\n",
       "  <th>contains_manager[T.True]</th> <td>   -0.0305</td> <td>    0.097</td> <td>   -0.314</td> <td> 0.754</td> <td>   -0.222     0.161</td>\n",
       "</tr>\n",
       "</table>\n",
       "<table class=\"simpletable\">\n",
       "<tr>\n",
       "  <th>Omnibus:</th>       <td>3358.901</td> <th>  Durbin-Watson:     </th> <td>   1.826</td>\n",
       "</tr>\n",
       "<tr>\n",
       "  <th>Prob(Omnibus):</th>  <td> 0.000</td>  <th>  Jarque-Bera (JB):  </th> <td>  33.465</td>\n",
       "</tr>\n",
       "<tr>\n",
       "  <th>Skew:</th>           <td>-0.043</td>  <th>  Prob(JB):          </th> <td>5.41e-08</td>\n",
       "</tr>\n",
       "<tr>\n",
       "  <th>Kurtosis:</th>       <td> 1.608</td>  <th>  Cond. No.          </th> <td>    24.5</td>\n",
       "</tr>\n",
       "</table>"
      ],
      "text/plain": [
       "<class 'statsmodels.iolib.summary.Summary'>\n",
       "\"\"\"\n",
       "                            OLS Regression Results                            \n",
       "==============================================================================\n",
       "Dep. Variable:          binary_salary   R-squared:                       0.180\n",
       "Model:                            OLS   Adj. R-squared:                  0.141\n",
       "Method:                 Least Squares   F-statistic:                     4.552\n",
       "Date:                Sun, 15 Jan 2017   Prob (F-statistic):           1.99e-09\n",
       "Time:                        23:26:06   Log-Likelihood:                -258.33\n",
       "No. Observations:                 413   AIC:                             556.7\n",
       "Df Residuals:                     393   BIC:                             637.1\n",
       "Df Model:                          19                                         \n",
       "Covariance Type:            nonrobust                                         \n",
       "============================================================================================\n",
       "                               coef    std err          t      P>|t|      [95.0% Conf. Int.]\n",
       "--------------------------------------------------------------------------------------------\n",
       "Intercept                    0.2121      0.106      1.992      0.047         0.003     0.421\n",
       "city[T.Austin]               0.1942      0.205      0.946      0.345        -0.209     0.598\n",
       "city[T.Boston]               0.4408      0.127      3.479      0.001         0.192     0.690\n",
       "city[T.Chicago]              0.3009      0.132      2.284      0.023         0.042     0.560\n",
       "city[T.Dallas]               0.0978      0.171      0.570      0.569        -0.239     0.435\n",
       "city[T.Denver]              -0.0394      0.155     -0.254      0.800        -0.345     0.266\n",
       "city[T.Houston]             -0.2434      0.188     -1.293      0.197        -0.614     0.127\n",
       "city[T.Los Angeles]          0.2761      0.142      1.938      0.053        -0.004     0.556\n",
       "city[T.Miami]               -0.0974      0.218     -0.446      0.656        -0.527     0.332\n",
       "city[T.New York]             0.1880      0.116      1.620      0.106        -0.040     0.416\n",
       "city[T.Palo Alto]            0.4742      0.139      3.409      0.001         0.201     0.748\n",
       "city[T.Philadelphia]         0.3959      0.176      2.248      0.025         0.050     0.742\n",
       "city[T.Phoenix]             -0.2121      0.217     -0.977      0.329        -0.639     0.215\n",
       "city[T.Pittsburgh]          -0.2295      0.188     -1.222      0.223        -0.599     0.140\n",
       "city[T.Portland]            -0.3681      0.480     -0.766      0.444        -1.312     0.576\n",
       "city[T.San Diego]            0.1255      0.183      0.685      0.494        -0.234     0.485\n",
       "city[T.San Francisco]        0.5060      0.126      4.005      0.000         0.258     0.754\n",
       "city[T.Seattle]              0.2753      0.149      1.851      0.065        -0.017     0.568\n",
       "contains_senior[T.True]      0.1559      0.067      2.345      0.020         0.025     0.287\n",
       "contains_manager[T.True]    -0.0305      0.097     -0.314      0.754        -0.222     0.161\n",
       "==============================================================================\n",
       "Omnibus:                     3358.901   Durbin-Watson:                   1.826\n",
       "Prob(Omnibus):                  0.000   Jarque-Bera (JB):               33.465\n",
       "Skew:                          -0.043   Prob(JB):                     5.41e-08\n",
       "Kurtosis:                       1.608   Cond. No.                         24.5\n",
       "==============================================================================\n",
       "\n",
       "Warnings:\n",
       "[1] Standard Errors assume that the covariance matrix of the errors is correctly specified.\n",
       "\"\"\""
      ]
     },
     "execution_count": 26,
     "metadata": {},
     "output_type": "execute_result"
    }
   ],
   "source": [
    "model4 = smf.ols('binary_salary ~ city + contains_senior + contains_manager', data=df).fit().summary()\n",
    "model4"
   ]
  },
  {
   "cell_type": "code",
   "execution_count": 27,
   "metadata": {
    "collapsed": false
   },
   "outputs": [
    {
     "data": {
      "text/html": [
       "<table class=\"simpletable\">\n",
       "<caption>OLS Regression Results</caption>\n",
       "<tr>\n",
       "  <th>Dep. Variable:</th>      <td>binary_salary</td>  <th>  R-squared:         </th> <td>   0.180</td>\n",
       "</tr>\n",
       "<tr>\n",
       "  <th>Model:</th>                   <td>OLS</td>       <th>  Adj. R-squared:    </th> <td>   0.143</td>\n",
       "</tr>\n",
       "<tr>\n",
       "  <th>Method:</th>             <td>Least Squares</td>  <th>  F-statistic:       </th> <td>   4.811</td>\n",
       "</tr>\n",
       "<tr>\n",
       "  <th>Date:</th>             <td>Sun, 15 Jan 2017</td> <th>  Prob (F-statistic):</th> <td>9.18e-10</td>\n",
       "</tr>\n",
       "<tr>\n",
       "  <th>Time:</th>                 <td>23:26:06</td>     <th>  Log-Likelihood:    </th> <td> -258.38</td>\n",
       "</tr>\n",
       "<tr>\n",
       "  <th>No. Observations:</th>      <td>   413</td>      <th>  AIC:               </th> <td>   554.8</td>\n",
       "</tr>\n",
       "<tr>\n",
       "  <th>Df Residuals:</th>          <td>   394</td>      <th>  BIC:               </th> <td>   631.2</td>\n",
       "</tr>\n",
       "<tr>\n",
       "  <th>Df Model:</th>              <td>    18</td>      <th>                     </th>     <td> </td>   \n",
       "</tr>\n",
       "<tr>\n",
       "  <th>Covariance Type:</th>      <td>nonrobust</td>    <th>                     </th>     <td> </td>   \n",
       "</tr>\n",
       "</table>\n",
       "<table class=\"simpletable\">\n",
       "<tr>\n",
       "             <td></td>                <th>coef</th>     <th>std err</th>      <th>t</th>      <th>P>|t|</th> <th>[95.0% Conf. Int.]</th> \n",
       "</tr>\n",
       "<tr>\n",
       "  <th>Intercept</th>               <td>    0.2105</td> <td>    0.106</td> <td>    1.981</td> <td> 0.048</td> <td>    0.002     0.419</td>\n",
       "</tr>\n",
       "<tr>\n",
       "  <th>city[T.Austin]</th>          <td>    0.1956</td> <td>    0.205</td> <td>    0.954</td> <td> 0.341</td> <td>   -0.207     0.599</td>\n",
       "</tr>\n",
       "<tr>\n",
       "  <th>city[T.Boston]</th>          <td>    0.4402</td> <td>    0.127</td> <td>    3.479</td> <td> 0.001</td> <td>    0.191     0.689</td>\n",
       "</tr>\n",
       "<tr>\n",
       "  <th>city[T.Chicago]</th>         <td>    0.2998</td> <td>    0.132</td> <td>    2.279</td> <td> 0.023</td> <td>    0.041     0.558</td>\n",
       "</tr>\n",
       "<tr>\n",
       "  <th>city[T.Dallas]</th>          <td>    0.0966</td> <td>    0.171</td> <td>    0.564</td> <td> 0.573</td> <td>   -0.240     0.433</td>\n",
       "</tr>\n",
       "<tr>\n",
       "  <th>city[T.Denver]</th>          <td>   -0.0433</td> <td>    0.155</td> <td>   -0.280</td> <td> 0.780</td> <td>   -0.347     0.261</td>\n",
       "</tr>\n",
       "<tr>\n",
       "  <th>city[T.Houston]</th>         <td>   -0.2455</td> <td>    0.188</td> <td>   -1.306</td> <td> 0.192</td> <td>   -0.615     0.124</td>\n",
       "</tr>\n",
       "<tr>\n",
       "  <th>city[T.Los Angeles]</th>     <td>    0.2764</td> <td>    0.142</td> <td>    1.942</td> <td> 0.053</td> <td>   -0.003     0.556</td>\n",
       "</tr>\n",
       "<tr>\n",
       "  <th>city[T.Miami]</th>           <td>   -0.0963</td> <td>    0.218</td> <td>   -0.442</td> <td> 0.659</td> <td>   -0.525     0.332</td>\n",
       "</tr>\n",
       "<tr>\n",
       "  <th>city[T.New York]</th>        <td>    0.1871</td> <td>    0.116</td> <td>    1.614</td> <td> 0.107</td> <td>   -0.041     0.415</td>\n",
       "</tr>\n",
       "<tr>\n",
       "  <th>city[T.Palo Alto]</th>       <td>    0.4757</td> <td>    0.139</td> <td>    3.425</td> <td> 0.001</td> <td>    0.203     0.749</td>\n",
       "</tr>\n",
       "<tr>\n",
       "  <th>city[T.Philadelphia]</th>    <td>    0.3972</td> <td>    0.176</td> <td>    2.259</td> <td> 0.024</td> <td>    0.051     0.743</td>\n",
       "</tr>\n",
       "<tr>\n",
       "  <th>city[T.Phoenix]</th>         <td>   -0.2105</td> <td>    0.217</td> <td>   -0.971</td> <td> 0.332</td> <td>   -0.637     0.216</td>\n",
       "</tr>\n",
       "<tr>\n",
       "  <th>city[T.Pittsburgh]</th>      <td>   -0.2280</td> <td>    0.188</td> <td>   -1.216</td> <td> 0.225</td> <td>   -0.597     0.141</td>\n",
       "</tr>\n",
       "<tr>\n",
       "  <th>city[T.Portland]</th>        <td>   -0.3679</td> <td>    0.480</td> <td>   -0.767</td> <td> 0.444</td> <td>   -1.311     0.575</td>\n",
       "</tr>\n",
       "<tr>\n",
       "  <th>city[T.San Diego]</th>       <td>    0.1265</td> <td>    0.183</td> <td>    0.692</td> <td> 0.489</td> <td>   -0.233     0.486</td>\n",
       "</tr>\n",
       "<tr>\n",
       "  <th>city[T.San Francisco]</th>   <td>    0.5060</td> <td>    0.126</td> <td>    4.010</td> <td> 0.000</td> <td>    0.258     0.754</td>\n",
       "</tr>\n",
       "<tr>\n",
       "  <th>city[T.Seattle]</th>         <td>    0.2737</td> <td>    0.149</td> <td>    1.843</td> <td> 0.066</td> <td>   -0.018     0.566</td>\n",
       "</tr>\n",
       "<tr>\n",
       "  <th>contains_senior[T.True]</th> <td>    0.1574</td> <td>    0.066</td> <td>    2.374</td> <td> 0.018</td> <td>    0.027     0.288</td>\n",
       "</tr>\n",
       "</table>\n",
       "<table class=\"simpletable\">\n",
       "<tr>\n",
       "  <th>Omnibus:</th>       <td>3333.827</td> <th>  Durbin-Watson:     </th> <td>   1.827</td>\n",
       "</tr>\n",
       "<tr>\n",
       "  <th>Prob(Omnibus):</th>  <td> 0.000</td>  <th>  Jarque-Bera (JB):  </th> <td>  33.441</td>\n",
       "</tr>\n",
       "<tr>\n",
       "  <th>Skew:</th>           <td>-0.040</td>  <th>  Prob(JB):          </th> <td>5.47e-08</td>\n",
       "</tr>\n",
       "<tr>\n",
       "  <th>Kurtosis:</th>       <td> 1.608</td>  <th>  Cond. No.          </th> <td>    24.4</td>\n",
       "</tr>\n",
       "</table>"
      ],
      "text/plain": [
       "<class 'statsmodels.iolib.summary.Summary'>\n",
       "\"\"\"\n",
       "                            OLS Regression Results                            \n",
       "==============================================================================\n",
       "Dep. Variable:          binary_salary   R-squared:                       0.180\n",
       "Model:                            OLS   Adj. R-squared:                  0.143\n",
       "Method:                 Least Squares   F-statistic:                     4.811\n",
       "Date:                Sun, 15 Jan 2017   Prob (F-statistic):           9.18e-10\n",
       "Time:                        23:26:06   Log-Likelihood:                -258.38\n",
       "No. Observations:                 413   AIC:                             554.8\n",
       "Df Residuals:                     394   BIC:                             631.2\n",
       "Df Model:                          18                                         \n",
       "Covariance Type:            nonrobust                                         \n",
       "===========================================================================================\n",
       "                              coef    std err          t      P>|t|      [95.0% Conf. Int.]\n",
       "-------------------------------------------------------------------------------------------\n",
       "Intercept                   0.2105      0.106      1.981      0.048         0.002     0.419\n",
       "city[T.Austin]              0.1956      0.205      0.954      0.341        -0.207     0.599\n",
       "city[T.Boston]              0.4402      0.127      3.479      0.001         0.191     0.689\n",
       "city[T.Chicago]             0.2998      0.132      2.279      0.023         0.041     0.558\n",
       "city[T.Dallas]              0.0966      0.171      0.564      0.573        -0.240     0.433\n",
       "city[T.Denver]             -0.0433      0.155     -0.280      0.780        -0.347     0.261\n",
       "city[T.Houston]            -0.2455      0.188     -1.306      0.192        -0.615     0.124\n",
       "city[T.Los Angeles]         0.2764      0.142      1.942      0.053        -0.003     0.556\n",
       "city[T.Miami]              -0.0963      0.218     -0.442      0.659        -0.525     0.332\n",
       "city[T.New York]            0.1871      0.116      1.614      0.107        -0.041     0.415\n",
       "city[T.Palo Alto]           0.4757      0.139      3.425      0.001         0.203     0.749\n",
       "city[T.Philadelphia]        0.3972      0.176      2.259      0.024         0.051     0.743\n",
       "city[T.Phoenix]            -0.2105      0.217     -0.971      0.332        -0.637     0.216\n",
       "city[T.Pittsburgh]         -0.2280      0.188     -1.216      0.225        -0.597     0.141\n",
       "city[T.Portland]           -0.3679      0.480     -0.767      0.444        -1.311     0.575\n",
       "city[T.San Diego]           0.1265      0.183      0.692      0.489        -0.233     0.486\n",
       "city[T.San Francisco]       0.5060      0.126      4.010      0.000         0.258     0.754\n",
       "city[T.Seattle]             0.2737      0.149      1.843      0.066        -0.018     0.566\n",
       "contains_senior[T.True]     0.1574      0.066      2.374      0.018         0.027     0.288\n",
       "==============================================================================\n",
       "Omnibus:                     3333.827   Durbin-Watson:                   1.827\n",
       "Prob(Omnibus):                  0.000   Jarque-Bera (JB):               33.441\n",
       "Skew:                          -0.040   Prob(JB):                     5.47e-08\n",
       "Kurtosis:                       1.608   Cond. No.                         24.4\n",
       "==============================================================================\n",
       "\n",
       "Warnings:\n",
       "[1] Standard Errors assume that the covariance matrix of the errors is correctly specified.\n",
       "\"\"\""
      ]
     },
     "execution_count": 27,
     "metadata": {},
     "output_type": "execute_result"
    }
   ],
   "source": [
    "model5 = smf.ols('binary_salary ~ city + contains_senior', data=df).fit().summary()\n",
    "model5"
   ]
  },
  {
   "cell_type": "markdown",
   "metadata": {},
   "source": [
    "Looking at information from the job title alone does not give us a better model for predicted salary.  Higher salaries seem to be mostly correlated with the city of the job rather than the job title.  We can get a slightly better model when looking at the city and whether or not 'Senior' is in the job title."
   ]
  },
  {
   "cell_type": "markdown",
   "metadata": {
    "focus": false,
    "id": "9c9274ef-c9f5-4d56-b286-ecc8709eff9f"
   },
   "source": [
    "#### Rebuild this model with scikit-learn.\n",
    "- You can either create the dummy features manually or use the `dmatrix` function from `patsy`\n",
    "- Remember to scale the feature variables as well!\n"
   ]
  },
  {
   "cell_type": "code",
   "execution_count": 28,
   "metadata": {
    "collapsed": false
   },
   "outputs": [
    {
     "data": {
      "text/html": [
       "<div>\n",
       "<table border=\"1\" class=\"dataframe\">\n",
       "  <thead>\n",
       "    <tr style=\"text-align: right;\">\n",
       "      <th></th>\n",
       "      <th>city</th>\n",
       "      <th>company</th>\n",
       "      <th>salary</th>\n",
       "      <th>summary</th>\n",
       "      <th>title</th>\n",
       "      <th>parsed_salary</th>\n",
       "      <th>binary_salary</th>\n",
       "      <th>contains_senior</th>\n",
       "      <th>contains_manager</th>\n",
       "      <th>city__Austin</th>\n",
       "      <th>...</th>\n",
       "      <th>city__Miami</th>\n",
       "      <th>city__New York</th>\n",
       "      <th>city__Palo Alto</th>\n",
       "      <th>city__Philadelphia</th>\n",
       "      <th>city__Phoenix</th>\n",
       "      <th>city__Pittsburgh</th>\n",
       "      <th>city__Portland</th>\n",
       "      <th>city__San Diego</th>\n",
       "      <th>city__San Francisco</th>\n",
       "      <th>city__Seattle</th>\n",
       "    </tr>\n",
       "  </thead>\n",
       "  <tbody>\n",
       "    <tr>\n",
       "      <th>0</th>\n",
       "      <td>Denver</td>\n",
       "      <td>Department Of The Interior</td>\n",
       "      <td>$76,341 - $99,243 a year</td>\n",
       "      <td>Would you like to join the more than 10,000 sc...</td>\n",
       "      <td>statistician, gs-1350-12 (deu-perm-ds)</td>\n",
       "      <td>87792.0</td>\n",
       "      <td>0</td>\n",
       "      <td>False</td>\n",
       "      <td>False</td>\n",
       "      <td>0.0</td>\n",
       "      <td>...</td>\n",
       "      <td>0.0</td>\n",
       "      <td>0.0</td>\n",
       "      <td>0.0</td>\n",
       "      <td>0.0</td>\n",
       "      <td>0.0</td>\n",
       "      <td>0.0</td>\n",
       "      <td>0.0</td>\n",
       "      <td>0.0</td>\n",
       "      <td>0.0</td>\n",
       "      <td>0.0</td>\n",
       "    </tr>\n",
       "    <tr>\n",
       "      <th>1</th>\n",
       "      <td>Denver</td>\n",
       "      <td>Department Of The Interior</td>\n",
       "      <td>$71,012 - $99,243 a year</td>\n",
       "      <td>Investigate potential uses of geospatial data ...</td>\n",
       "      <td>interdisciplinary cartographer/geographer - gs...</td>\n",
       "      <td>85127.5</td>\n",
       "      <td>0</td>\n",
       "      <td>False</td>\n",
       "      <td>False</td>\n",
       "      <td>0.0</td>\n",
       "      <td>...</td>\n",
       "      <td>0.0</td>\n",
       "      <td>0.0</td>\n",
       "      <td>0.0</td>\n",
       "      <td>0.0</td>\n",
       "      <td>0.0</td>\n",
       "      <td>0.0</td>\n",
       "      <td>0.0</td>\n",
       "      <td>0.0</td>\n",
       "      <td>0.0</td>\n",
       "      <td>0.0</td>\n",
       "    </tr>\n",
       "  </tbody>\n",
       "</table>\n",
       "<p>2 rows × 26 columns</p>\n",
       "</div>"
      ],
      "text/plain": [
       "     city                     company                    salary  \\\n",
       "0  Denver  Department Of The Interior  $76,341 - $99,243 a year   \n",
       "1  Denver  Department Of The Interior  $71,012 - $99,243 a year   \n",
       "\n",
       "                                             summary  \\\n",
       "0  Would you like to join the more than 10,000 sc...   \n",
       "1  Investigate potential uses of geospatial data ...   \n",
       "\n",
       "                                               title  parsed_salary  \\\n",
       "0             statistician, gs-1350-12 (deu-perm-ds)        87792.0   \n",
       "1  interdisciplinary cartographer/geographer - gs...        85127.5   \n",
       "\n",
       "   binary_salary contains_senior contains_manager  city__Austin  \\\n",
       "0              0           False            False           0.0   \n",
       "1              0           False            False           0.0   \n",
       "\n",
       "       ...        city__Miami  city__New York  city__Palo Alto  \\\n",
       "0      ...                0.0             0.0              0.0   \n",
       "1      ...                0.0             0.0              0.0   \n",
       "\n",
       "   city__Philadelphia  city__Phoenix  city__Pittsburgh  city__Portland  \\\n",
       "0                 0.0            0.0               0.0             0.0   \n",
       "1                 0.0            0.0               0.0             0.0   \n",
       "\n",
       "   city__San Diego  city__San Francisco  city__Seattle  \n",
       "0              0.0                  0.0            0.0  \n",
       "1              0.0                  0.0            0.0  \n",
       "\n",
       "[2 rows x 26 columns]"
      ]
     },
     "execution_count": 28,
     "metadata": {},
     "output_type": "execute_result"
    }
   ],
   "source": [
    "df=pd.concat([df, pd.get_dummies(df['city'], prefix='city_', drop_first=True)], axis=1)\n",
    "df.head(2)"
   ]
  },
  {
   "cell_type": "code",
   "execution_count": 34,
   "metadata": {
    "collapsed": false
   },
   "outputs": [],
   "source": [
    "y = df['binary_salary']\n",
    "X = df.loc[:,'city__Austin':'city__Seattle']"
   ]
  },
  {
   "cell_type": "code",
   "execution_count": 35,
   "metadata": {
    "collapsed": false
   },
   "outputs": [],
   "source": [
    "\n",
    "from sklearn.model_selection import train_test_split\n",
    "from sklearn.linear_model import LinearRegression\n",
    "\n",
    "\n",
    "def least_squares_regressor_standard_workflow(X, y, random_state=None):\n",
    "    X_train, X_test, y_train, y_test = train_test_split(X, y, random_state=random_state)\n",
    "    model_sklearn = LinearRegression()\n",
    "    model_sklearn.fit(X_train, y_train)\n",
    "    train_score = model_sklearn.score(X_train, y_train)\n",
    "    test_score = model_sklearn.score(X_test, y_test)\n",
    "    return {\n",
    "        'model' : model,\n",
    "        'train_score' : train_score,\n",
    "        'test_score' : test_score}"
   ]
  },
  {
   "cell_type": "code",
   "execution_count": 36,
   "metadata": {
    "collapsed": true
   },
   "outputs": [],
   "source": [
    "from sklearn.preprocessing import StandardScaler\n",
    "\n",
    "def scaler_standard_workflow(X, y, random_state=None):\n",
    "    X_train, X_test, y_train, y_test = train_test_split(X, y, random_state=random_state)\n",
    "    scaler = StandardScaler()\n",
    "    scaler.fit(X_train)\n",
    "    X_train = scaler.transform(X_train)\n",
    "    X_test = scaler.transform(X_test)\n",
    "    return {\n",
    "        'scaler' : scaler,\n",
    "        'X_test' : X_test,\n",
    "        'X_train' : X_train,\n",
    "        'y_test' : y_test,\n",
    "        'y_train' : y_train}"
   ]
  },
  {
   "cell_type": "code",
   "execution_count": 37,
   "metadata": {
    "collapsed": false,
    "scrolled": false
   },
   "outputs": [
    {
     "data": {
      "text/plain": [
       "{'model': <class 'statsmodels.iolib.summary.Summary'>\n",
       " \"\"\"\n",
       "                             OLS Regression Results                            \n",
       " ==============================================================================\n",
       " Dep. Variable:          binary_salary   R-squared:                       0.168\n",
       " Model:                            OLS   Adj. R-squared:                  0.133\n",
       " Method:                 Least Squares   F-statistic:                     4.707\n",
       " Date:                Sun, 15 Jan 2017   Prob (F-statistic):           4.00e-09\n",
       " Time:                        23:26:05   Log-Likelihood:                -261.31\n",
       " No. Observations:                 413   AIC:                             558.6\n",
       " Df Residuals:                     395   BIC:                             631.0\n",
       " Df Model:                          17                                         \n",
       " Covariance Type:            nonrobust                                         \n",
       " =========================================================================================\n",
       "                             coef    std err          t      P>|t|      [95.0% Conf. Int.]\n",
       " -----------------------------------------------------------------------------------------\n",
       " Intercept                 0.2105      0.107      1.970      0.050         0.000     0.421\n",
       " city[T.Austin]            0.2180      0.206      1.059      0.290        -0.187     0.623\n",
       " city[T.Boston]            0.4703      0.127      3.714      0.000         0.221     0.719\n",
       " city[T.Chicago]           0.3173      0.132      2.402      0.017         0.058     0.577\n",
       " city[T.Dallas]            0.1228      0.172      0.715      0.475        -0.215     0.460\n",
       " city[T.Denver]           -0.0341      0.156     -0.219      0.827        -0.340     0.272\n",
       " city[T.Houston]          -0.2105      0.188     -1.117      0.265        -0.581     0.160\n",
       " city[T.Los Angeles]       0.2895      0.143      2.024      0.044         0.008     0.571\n",
       " city[T.Miami]            -0.0439      0.218     -0.201      0.841        -0.473     0.385\n",
       " city[T.New York]          0.2069      0.116      1.779      0.076        -0.022     0.436\n",
       " city[T.Palo Alto]         0.4932      0.139      3.536      0.000         0.219     0.767\n",
       " city[T.Philadelphia]      0.4258      0.176      2.413      0.016         0.079     0.773\n",
       " city[T.Phoenix]          -0.2105      0.218     -0.965      0.335        -0.639     0.218\n",
       " city[T.Pittsburgh]       -0.2105      0.188     -1.117      0.265        -0.581     0.160\n",
       " city[T.Portland]         -0.2105      0.478     -0.440      0.660        -1.150     0.729\n",
       " city[T.San Diego]         0.1895      0.182      1.041      0.298        -0.168     0.547\n",
       " city[T.San Francisco]     0.5446      0.126      4.326      0.000         0.297     0.792\n",
       " city[T.Seattle]           0.2895      0.149      1.940      0.053        -0.004     0.583\n",
       " ==============================================================================\n",
       " Omnibus:                        0.201   Durbin-Watson:                   1.822\n",
       " Prob(Omnibus):                  0.905   Jarque-Bera (JB):               35.898\n",
       " Skew:                          -0.053   Prob(JB):                     1.60e-08\n",
       " Kurtosis:                       1.560   Cond. No.                         23.9\n",
       " ==============================================================================\n",
       " \n",
       " Warnings:\n",
       " [1] Standard Errors assume that the covariance matrix of the errors is correctly specified.\n",
       " \"\"\", 'test_score': 0.079404955778052067, 'train_score': 0.18040580659070515}"
      ]
     },
     "execution_count": 37,
     "metadata": {},
     "output_type": "execute_result"
    }
   ],
   "source": [
    "least_squares_regressor_standard_workflow(X, y)"
   ]
  },
  {
   "cell_type": "code",
   "execution_count": 38,
   "metadata": {
    "collapsed": false
   },
   "outputs": [
    {
     "data": {
      "text/plain": [
       "{'X_test': array([[-0.11451967, -0.37446148, -0.32182515, ..., -0.14071951,\n",
       "         -0.39113307,  4.14445058],\n",
       "        [-0.11451967, -0.37446148, -0.32182515, ..., -0.14071951,\n",
       "         -0.39113307, -0.24128651],\n",
       "        [-0.11451967, -0.37446148, -0.32182515, ...,  7.1063352 ,\n",
       "         -0.39113307, -0.24128651],\n",
       "        ..., \n",
       "        [ 8.7321246 , -0.37446148, -0.32182515, ..., -0.14071951,\n",
       "         -0.39113307, -0.24128651],\n",
       "        [-0.11451967, -0.37446148, -0.32182515, ..., -0.14071951,\n",
       "         -0.39113307, -0.24128651],\n",
       "        [-0.11451967, -0.37446148, -0.32182515, ..., -0.14071951,\n",
       "         -0.39113307, -0.24128651]]),\n",
       " 'X_train': array([[-0.11451967,  2.67050163, -0.32182515, ..., -0.14071951,\n",
       "         -0.39113307, -0.24128651],\n",
       "        [-0.11451967, -0.37446148, -0.32182515, ..., -0.14071951,\n",
       "         -0.39113307, -0.24128651],\n",
       "        [-0.11451967, -0.37446148, -0.32182515, ..., -0.14071951,\n",
       "         -0.39113307, -0.24128651],\n",
       "        ..., \n",
       "        [-0.11451967, -0.37446148, -0.32182515, ..., -0.14071951,\n",
       "          2.55667467, -0.24128651],\n",
       "        [ 8.7321246 , -0.37446148, -0.32182515, ..., -0.14071951,\n",
       "         -0.39113307, -0.24128651],\n",
       "        [-0.11451967, -0.37446148, -0.32182515, ..., -0.14071951,\n",
       "         -0.39113307, -0.24128651]]),\n",
       " 'scaler': StandardScaler(copy=True, with_mean=True, with_std=True),\n",
       " 'y_test': 42     0\n",
       " 59     0\n",
       " 152    1\n",
       " 201    1\n",
       " 223    1\n",
       " 178    0\n",
       " 129    1\n",
       " 124    0\n",
       " 195    1\n",
       " 199    0\n",
       " 218    0\n",
       " 243    0\n",
       " 296    1\n",
       " 97     0\n",
       " 339    0\n",
       " 14     1\n",
       " 20     0\n",
       " 151    0\n",
       " 329    0\n",
       " 287    1\n",
       " 378    0\n",
       " 120    0\n",
       " 219    0\n",
       " 395    0\n",
       " 150    0\n",
       " 164    1\n",
       " 144    0\n",
       " 363    1\n",
       " 186    1\n",
       " 235    1\n",
       "       ..\n",
       " 343    0\n",
       " 308    1\n",
       " 147    0\n",
       " 234    0\n",
       " 78     1\n",
       " 48     1\n",
       " 71     1\n",
       " 333    0\n",
       " 22     0\n",
       " 246    0\n",
       " 155    1\n",
       " 257    0\n",
       " 309    0\n",
       " 196    0\n",
       " 0      0\n",
       " 335    0\n",
       " 259    1\n",
       " 54     1\n",
       " 229    0\n",
       " 392    1\n",
       " 320    1\n",
       " 242    0\n",
       " 190    0\n",
       " 44     0\n",
       " 158    1\n",
       " 268    1\n",
       " 188    0\n",
       " 23     0\n",
       " 311    0\n",
       " 79     1\n",
       " Name: binary_salary, dtype: int64,\n",
       " 'y_train': 282    1\n",
       " 404    1\n",
       " 206    0\n",
       " 126    1\n",
       " 77     0\n",
       " 8      0\n",
       " 305    0\n",
       " 149    0\n",
       " 275    1\n",
       " 388    0\n",
       " 66     1\n",
       " 82     0\n",
       " 411    0\n",
       " 354    0\n",
       " 109    0\n",
       " 93     1\n",
       " 359    1\n",
       " 239    0\n",
       " 172    1\n",
       " 321    0\n",
       " 169    0\n",
       " 279    0\n",
       " 220    0\n",
       " 168    1\n",
       " 76     1\n",
       " 70     1\n",
       " 301    1\n",
       " 289    1\n",
       " 288    1\n",
       " 315    1\n",
       "       ..\n",
       " 348    1\n",
       " 119    0\n",
       " 313    0\n",
       " 72     1\n",
       " 260    0\n",
       " 230    1\n",
       " 286    0\n",
       " 340    0\n",
       " 353    1\n",
       " 165    1\n",
       " 258    1\n",
       " 94     0\n",
       " 299    1\n",
       " 267    1\n",
       " 62     1\n",
       " 281    1\n",
       " 131    0\n",
       " 316    1\n",
       " 231    0\n",
       " 397    1\n",
       " 105    1\n",
       " 110    0\n",
       " 366    0\n",
       " 345    1\n",
       " 355    0\n",
       " 306    0\n",
       " 225    0\n",
       " 360    1\n",
       " 19     0\n",
       " 75     0\n",
       " Name: binary_salary, dtype: int64}"
      ]
     },
     "execution_count": 38,
     "metadata": {},
     "output_type": "execute_result"
    }
   ],
   "source": [
    "scaler_standard_workflow(X, y)"
   ]
  },
  {
   "cell_type": "markdown",
   "metadata": {
    "focus": false,
    "id": "9367beff-72ba-4768-a0ba-a50b335de61d"
   },
   "source": [
    "#### Use cross-validation in scikit-learn to evaluate the model above. \n",
    "- Evaluate the accuracy, AUC, precision and recall of the model. \n",
    "- Discuss the differences and explain when you want a high-recall or a high-precision model in this scenario."
   ]
  },
  {
   "cell_type": "code",
   "execution_count": null,
   "metadata": {
    "collapsed": false,
    "focus": false,
    "id": "269b9e7c-60b5-4a06-8255-881d7395bc1b"
   },
   "outputs": [],
   "source": [
    "## YOUR CODE HERE\n",
    "\n",
    "# 4.4.1"
   ]
  },
  {
   "cell_type": "code",
   "execution_count": 39,
   "metadata": {
    "collapsed": true
   },
   "outputs": [],
   "source": [
    "from sklearn.linear_model import LogisticRegression\n",
    "from sklearn.neighbors import KNeighborsClassifier\n",
    "from sklearn.model_selection import GridSearchCV, cross_val_score"
   ]
  },
  {
   "cell_type": "code",
   "execution_count": 40,
   "metadata": {
    "collapsed": false
   },
   "outputs": [
    {
     "name": "stdout",
     "output_type": "stream",
     "text": [
      "Fitting 10 folds for each of 100 candidates, totalling 1000 fits\n"
     ]
    },
    {
     "name": "stderr",
     "output_type": "stream",
     "text": [
      "[Parallel(n_jobs=1)]: Done 1000 out of 1000 | elapsed:   30.1s finished\n"
     ]
    },
    {
     "data": {
      "text/plain": [
       "GridSearchCV(cv=10, error_score='raise',\n",
       "       estimator=KNeighborsClassifier(algorithm='auto', leaf_size=30, metric='minkowski',\n",
       "           metric_params=None, n_jobs=1, n_neighbors=5, p=2,\n",
       "           weights='uniform'),\n",
       "       fit_params={}, iid=True, n_jobs=1,\n",
       "       param_grid={'n_neighbors': [1, 3, 5, 7, 9, 11, 13, 15, 17, 19, 21, 23, 25, 27, 29, 31, 33, 35, 37, 39, 41, 43, 45, 47, 49, 51, 53, 55, 57, 59, 61, 63, 65, 67, 69, 71, 73, 75, 77, 79, 81, 83, 85, 87, 89, 91, 93, 95, 97, 99], 'weights': ['uniform', 'distance']},\n",
       "       pre_dispatch='2*n_jobs', refit=True, return_train_score=True,\n",
       "       scoring=None, verbose=1)"
      ]
     },
     "execution_count": 40,
     "metadata": {},
     "output_type": "execute_result"
    }
   ],
   "source": [
    "knn_params = {\n",
    "    'n_neighbors':range(1,101,2),\n",
    "    'weights':['uniform','distance']\n",
    "}\n",
    "\n",
    "knn_gs = GridSearchCV(KNeighborsClassifier(), knn_params, cv=10, verbose=1)\n",
    "knn_gs.fit(X, y)"
   ]
  },
  {
   "cell_type": "code",
   "execution_count": 41,
   "metadata": {
    "collapsed": true
   },
   "outputs": [],
   "source": [
    "best_knn = knn_gs.best_estimator_"
   ]
  },
  {
   "cell_type": "code",
   "execution_count": 42,
   "metadata": {
    "collapsed": false
   },
   "outputs": [
    {
     "data": {
      "text/plain": [
       "{'n_neighbors': 3, 'weights': 'uniform'}"
      ]
     },
     "execution_count": 42,
     "metadata": {},
     "output_type": "execute_result"
    }
   ],
   "source": [
    "knn_gs.best_params_"
   ]
  },
  {
   "cell_type": "code",
   "execution_count": 43,
   "metadata": {
    "collapsed": false
   },
   "outputs": [
    {
     "data": {
      "text/plain": [
       "0.63196125907990319"
      ]
     },
     "execution_count": 43,
     "metadata": {},
     "output_type": "execute_result"
    }
   ],
   "source": [
    "knn_gs.best_score_"
   ]
  },
  {
   "cell_type": "code",
   "execution_count": 44,
   "metadata": {
    "collapsed": false
   },
   "outputs": [
    {
     "data": {
      "text/plain": [
       "0.5205811138014528"
      ]
     },
     "execution_count": 44,
     "metadata": {},
     "output_type": "execute_result"
    }
   ],
   "source": [
    "1 - np.mean(y)"
   ]
  },
  {
   "cell_type": "markdown",
   "metadata": {
    "focus": false,
    "id": "8c22664b-92e4-4fc2-b7ac-fbac865845d3"
   },
   "source": [
    "#### Compare L1 and L2 regularization for this logistic regression model. What effect does this have on the coefficients learned?"
   ]
  },
  {
   "cell_type": "code",
   "execution_count": 45,
   "metadata": {
    "collapsed": false,
    "focus": false,
    "id": "172fd952-5012-4630-81f4-1206da6eb820"
   },
   "outputs": [],
   "source": [
    "from sklearn.preprocessing import StandardScaler\n",
    "ss = StandardScaler()\n",
    "Xn = ss.fit_transform(X)"
   ]
  },
  {
   "cell_type": "code",
   "execution_count": 46,
   "metadata": {
    "collapsed": false,
    "focus": false,
    "id": "56cc8854-d722-411d-a6c7-e86310710f67"
   },
   "outputs": [
    {
     "name": "stdout",
     "output_type": "stream",
     "text": [
      "Fitting 10 folds for each of 400 candidates, totalling 4000 fits\n"
     ]
    },
    {
     "name": "stderr",
     "output_type": "stream",
     "text": [
      "[Parallel(n_jobs=1)]: Done 4000 out of 4000 | elapsed:   52.0s finished\n"
     ]
    },
    {
     "data": {
      "text/plain": [
       "GridSearchCV(cv=10, error_score='raise',\n",
       "       estimator=LogisticRegression(C=1.0, class_weight=None, dual=False, fit_intercept=True,\n",
       "          intercept_scaling=1, max_iter=100, multi_class='ovr', n_jobs=1,\n",
       "          penalty='l2', random_state=None, solver='liblinear', tol=0.0001,\n",
       "          verbose=0, warm_start=False),\n",
       "       fit_params={}, iid=True, n_jobs=1,\n",
       "       param_grid={'penalty': ['l1', 'l2'], 'C': array([  1.00000e-04,   5.03508e-02, ...,   9.94975e+00,   1.00000e+01]), 'solver': ['liblinear']},\n",
       "       pre_dispatch='2*n_jobs', refit=True, return_train_score=True,\n",
       "       scoring=None, verbose=1)"
      ]
     },
     "execution_count": 46,
     "metadata": {},
     "output_type": "execute_result"
    }
   ],
   "source": [
    "lr = LogisticRegression()\n",
    "\n",
    "lr_params = {\n",
    "    'penalty':['l1','l2'],\n",
    "    'solver':['liblinear'],\n",
    "    'C':np.linspace(0.0001, 10, 200)\n",
    "}\n",
    "\n",
    "lr_gs = GridSearchCV(lr, lr_params, cv=10, verbose=1)\n",
    "lr_gs.fit(Xn, y)"
   ]
  },
  {
   "cell_type": "code",
   "execution_count": 47,
   "metadata": {
    "collapsed": false
   },
   "outputs": [
    {
     "name": "stdout",
     "output_type": "stream",
     "text": [
      "{'penalty': 'l2', 'C': 0.0001, 'solver': 'liblinear'}\n",
      "0.624697336562\n"
     ]
    }
   ],
   "source": [
    "best_lr = lr_gs.best_estimator_\n",
    "print lr_gs.best_params_\n",
    "print lr_gs.best_score_"
   ]
  },
  {
   "cell_type": "code",
   "execution_count": 50,
   "metadata": {
    "collapsed": false
   },
   "outputs": [
    {
     "data": {
      "text/html": [
       "<div>\n",
       "<table border=\"1\" class=\"dataframe\">\n",
       "  <thead>\n",
       "    <tr style=\"text-align: right;\">\n",
       "      <th></th>\n",
       "      <th>positive_pp</th>\n",
       "      <th>y_hat</th>\n",
       "      <th>y_true</th>\n",
       "    </tr>\n",
       "  </thead>\n",
       "  <tbody>\n",
       "    <tr>\n",
       "      <th>0</th>\n",
       "      <td>0.49641</td>\n",
       "      <td>0</td>\n",
       "      <td>0</td>\n",
       "    </tr>\n",
       "    <tr>\n",
       "      <th>1</th>\n",
       "      <td>0.49641</td>\n",
       "      <td>0</td>\n",
       "      <td>0</td>\n",
       "    </tr>\n",
       "    <tr>\n",
       "      <th>2</th>\n",
       "      <td>0.49641</td>\n",
       "      <td>0</td>\n",
       "      <td>0</td>\n",
       "    </tr>\n",
       "    <tr>\n",
       "      <th>3</th>\n",
       "      <td>0.49641</td>\n",
       "      <td>0</td>\n",
       "      <td>0</td>\n",
       "    </tr>\n",
       "    <tr>\n",
       "      <th>4</th>\n",
       "      <td>0.49641</td>\n",
       "      <td>0</td>\n",
       "      <td>0</td>\n",
       "    </tr>\n",
       "  </tbody>\n",
       "</table>\n",
       "</div>"
      ],
      "text/plain": [
       "   positive_pp  y_hat  y_true\n",
       "0      0.49641      0       0\n",
       "1      0.49641      0       0\n",
       "2      0.49641      0       0\n",
       "3      0.49641      0       0\n",
       "4      0.49641      0       0"
      ]
     },
     "execution_count": 50,
     "metadata": {},
     "output_type": "execute_result"
    }
   ],
   "source": [
    "y_preds = pd.DataFrame({\n",
    "        'y_true':y,\n",
    "        'y_hat':best_lr.predict(Xn),\n",
    "        'positive_pp':best_lr.predict_proba(Xn)[:,1]\n",
    "    })\n",
    "y_preds.head()"
   ]
  },
  {
   "cell_type": "code",
   "execution_count": 51,
   "metadata": {
    "collapsed": false
   },
   "outputs": [
    {
     "data": {
      "text/html": [
       "<div>\n",
       "<table border=\"1\" class=\"dataframe\">\n",
       "  <thead>\n",
       "    <tr style=\"text-align: right;\">\n",
       "      <th></th>\n",
       "      <th>abscoef</th>\n",
       "      <th>coef</th>\n",
       "      <th>variable</th>\n",
       "    </tr>\n",
       "  </thead>\n",
       "  <tbody>\n",
       "    <tr>\n",
       "      <th>15</th>\n",
       "      <td>0.004131</td>\n",
       "      <td>0.004131</td>\n",
       "      <td>city__San Francisco</td>\n",
       "    </tr>\n",
       "    <tr>\n",
       "      <th>1</th>\n",
       "      <td>0.002949</td>\n",
       "      <td>0.002949</td>\n",
       "      <td>city__Boston</td>\n",
       "    </tr>\n",
       "    <tr>\n",
       "      <th>5</th>\n",
       "      <td>0.002923</td>\n",
       "      <td>-0.002923</td>\n",
       "      <td>city__Houston</td>\n",
       "    </tr>\n",
       "    <tr>\n",
       "      <th>12</th>\n",
       "      <td>0.002923</td>\n",
       "      <td>-0.002923</td>\n",
       "      <td>city__Pittsburgh</td>\n",
       "    </tr>\n",
       "    <tr>\n",
       "      <th>4</th>\n",
       "      <td>0.002563</td>\n",
       "      <td>-0.002563</td>\n",
       "      <td>city__Denver</td>\n",
       "    </tr>\n",
       "    <tr>\n",
       "      <th>9</th>\n",
       "      <td>0.002425</td>\n",
       "      <td>0.002425</td>\n",
       "      <td>city__Palo Alto</td>\n",
       "    </tr>\n",
       "    <tr>\n",
       "      <th>11</th>\n",
       "      <td>0.002378</td>\n",
       "      <td>-0.002378</td>\n",
       "      <td>city__Phoenix</td>\n",
       "    </tr>\n",
       "    <tr>\n",
       "      <th>7</th>\n",
       "      <td>0.001551</td>\n",
       "      <td>-0.001551</td>\n",
       "      <td>city__Miami</td>\n",
       "    </tr>\n",
       "    <tr>\n",
       "      <th>8</th>\n",
       "      <td>0.001451</td>\n",
       "      <td>-0.001451</td>\n",
       "      <td>city__New York</td>\n",
       "    </tr>\n",
       "    <tr>\n",
       "      <th>10</th>\n",
       "      <td>0.001062</td>\n",
       "      <td>0.001062</td>\n",
       "      <td>city__Philadelphia</td>\n",
       "    </tr>\n",
       "    <tr>\n",
       "      <th>3</th>\n",
       "      <td>0.001032</td>\n",
       "      <td>-0.001032</td>\n",
       "      <td>city__Dallas</td>\n",
       "    </tr>\n",
       "    <tr>\n",
       "      <th>13</th>\n",
       "      <td>0.000965</td>\n",
       "      <td>-0.000965</td>\n",
       "      <td>city__Portland</td>\n",
       "    </tr>\n",
       "    <tr>\n",
       "      <th>2</th>\n",
       "      <td>0.000612</td>\n",
       "      <td>0.000612</td>\n",
       "      <td>city__Chicago</td>\n",
       "    </tr>\n",
       "    <tr>\n",
       "      <th>14</th>\n",
       "      <td>0.000510</td>\n",
       "      <td>-0.000510</td>\n",
       "      <td>city__San Diego</td>\n",
       "    </tr>\n",
       "    <tr>\n",
       "      <th>0</th>\n",
       "      <td>0.000272</td>\n",
       "      <td>-0.000272</td>\n",
       "      <td>city__Austin</td>\n",
       "    </tr>\n",
       "    <tr>\n",
       "      <th>6</th>\n",
       "      <td>0.000210</td>\n",
       "      <td>0.000210</td>\n",
       "      <td>city__Los Angeles</td>\n",
       "    </tr>\n",
       "    <tr>\n",
       "      <th>16</th>\n",
       "      <td>0.000191</td>\n",
       "      <td>0.000191</td>\n",
       "      <td>city__Seattle</td>\n",
       "    </tr>\n",
       "  </tbody>\n",
       "</table>\n",
       "</div>"
      ],
      "text/plain": [
       "     abscoef      coef             variable\n",
       "15  0.004131  0.004131  city__San Francisco\n",
       "1   0.002949  0.002949         city__Boston\n",
       "5   0.002923 -0.002923        city__Houston\n",
       "12  0.002923 -0.002923     city__Pittsburgh\n",
       "4   0.002563 -0.002563         city__Denver\n",
       "9   0.002425  0.002425      city__Palo Alto\n",
       "11  0.002378 -0.002378        city__Phoenix\n",
       "7   0.001551 -0.001551          city__Miami\n",
       "8   0.001451 -0.001451       city__New York\n",
       "10  0.001062  0.001062   city__Philadelphia\n",
       "3   0.001032 -0.001032         city__Dallas\n",
       "13  0.000965 -0.000965       city__Portland\n",
       "2   0.000612  0.000612        city__Chicago\n",
       "14  0.000510 -0.000510      city__San Diego\n",
       "0   0.000272 -0.000272         city__Austin\n",
       "6   0.000210  0.000210    city__Los Angeles\n",
       "16  0.000191  0.000191        city__Seattle"
      ]
     },
     "execution_count": 51,
     "metadata": {},
     "output_type": "execute_result"
    }
   ],
   "source": [
    "coefs_vars = pd.DataFrame({\n",
    "        'coef':best_lr.coef_[0],\n",
    "        'variable':X.columns,\n",
    "        'abscoef':np.abs(best_lr.coef_[0])\n",
    "    })\n",
    "coefs_vars.sort_values('abscoef', ascending=False, inplace=True)\n",
    "coefs_vars[coefs_vars.coef != 0]"
   ]
  },
  {
   "cell_type": "markdown",
   "metadata": {
    "focus": false,
    "id": "fead9b5b-7316-405d-87fd-e144dff0cbeb"
   },
   "source": [
    "#### Continue to incorporate other text features from the title or summary that you believe will predict the salary and examine their coefficients"
   ]
  },
  {
   "cell_type": "code",
   "execution_count": 58,
   "metadata": {
    "collapsed": false,
    "scrolled": false
   },
   "outputs": [
    {
     "data": {
      "text/html": [
       "<div>\n",
       "<table border=\"1\" class=\"dataframe\">\n",
       "  <thead>\n",
       "    <tr style=\"text-align: right;\">\n",
       "      <th></th>\n",
       "      <th>city</th>\n",
       "      <th>company</th>\n",
       "      <th>salary</th>\n",
       "      <th>summary</th>\n",
       "      <th>title</th>\n",
       "      <th>parsed_salary</th>\n",
       "      <th>binary_salary</th>\n",
       "      <th>contains_senior</th>\n",
       "      <th>contains_manager</th>\n",
       "      <th>city__Austin</th>\n",
       "      <th>...</th>\n",
       "      <th>city__Palo Alto</th>\n",
       "      <th>city__Philadelphia</th>\n",
       "      <th>city__Phoenix</th>\n",
       "      <th>city__Pittsburgh</th>\n",
       "      <th>city__Portland</th>\n",
       "      <th>city__San Diego</th>\n",
       "      <th>city__San Francisco</th>\n",
       "      <th>city__Seattle</th>\n",
       "      <th>contains_phd</th>\n",
       "      <th>high_education</th>\n",
       "    </tr>\n",
       "  </thead>\n",
       "  <tbody>\n",
       "    <tr>\n",
       "      <th>0</th>\n",
       "      <td>Denver</td>\n",
       "      <td>Department Of The Interior</td>\n",
       "      <td>$76,341 - $99,243 a year</td>\n",
       "      <td>would you like to join the more than 10,000 sc...</td>\n",
       "      <td>statistician, gs-1350-12 (deu-perm-ds)</td>\n",
       "      <td>87792.0</td>\n",
       "      <td>0</td>\n",
       "      <td>False</td>\n",
       "      <td>False</td>\n",
       "      <td>0.0</td>\n",
       "      <td>...</td>\n",
       "      <td>0.0</td>\n",
       "      <td>0.0</td>\n",
       "      <td>0.0</td>\n",
       "      <td>0.0</td>\n",
       "      <td>0.0</td>\n",
       "      <td>0.0</td>\n",
       "      <td>0.0</td>\n",
       "      <td>0.0</td>\n",
       "      <td>False</td>\n",
       "      <td>False</td>\n",
       "    </tr>\n",
       "    <tr>\n",
       "      <th>1</th>\n",
       "      <td>Denver</td>\n",
       "      <td>Department Of The Interior</td>\n",
       "      <td>$71,012 - $99,243 a year</td>\n",
       "      <td>investigate potential uses of geospatial data ...</td>\n",
       "      <td>interdisciplinary cartographer/geographer - gs...</td>\n",
       "      <td>85127.5</td>\n",
       "      <td>0</td>\n",
       "      <td>False</td>\n",
       "      <td>False</td>\n",
       "      <td>0.0</td>\n",
       "      <td>...</td>\n",
       "      <td>0.0</td>\n",
       "      <td>0.0</td>\n",
       "      <td>0.0</td>\n",
       "      <td>0.0</td>\n",
       "      <td>0.0</td>\n",
       "      <td>0.0</td>\n",
       "      <td>0.0</td>\n",
       "      <td>0.0</td>\n",
       "      <td>False</td>\n",
       "      <td>False</td>\n",
       "    </tr>\n",
       "    <tr>\n",
       "      <th>2</th>\n",
       "      <td>Denver</td>\n",
       "      <td>Mental Health Center of Denver</td>\n",
       "      <td>$70,000 - $80,000 a year</td>\n",
       "      <td>advise the data developer with regard to creat...</td>\n",
       "      <td>financial data scientist</td>\n",
       "      <td>75000.0</td>\n",
       "      <td>0</td>\n",
       "      <td>False</td>\n",
       "      <td>False</td>\n",
       "      <td>0.0</td>\n",
       "      <td>...</td>\n",
       "      <td>0.0</td>\n",
       "      <td>0.0</td>\n",
       "      <td>0.0</td>\n",
       "      <td>0.0</td>\n",
       "      <td>0.0</td>\n",
       "      <td>0.0</td>\n",
       "      <td>0.0</td>\n",
       "      <td>0.0</td>\n",
       "      <td>False</td>\n",
       "      <td>False</td>\n",
       "    </tr>\n",
       "    <tr>\n",
       "      <th>3</th>\n",
       "      <td>Denver</td>\n",
       "      <td>Denver Public Schools</td>\n",
       "      <td>$62,712 - $75,255 a year</td>\n",
       "      <td>portal managers on student outcome data report...</td>\n",
       "      <td>senior research analyst</td>\n",
       "      <td>68983.5</td>\n",
       "      <td>0</td>\n",
       "      <td>True</td>\n",
       "      <td>False</td>\n",
       "      <td>0.0</td>\n",
       "      <td>...</td>\n",
       "      <td>0.0</td>\n",
       "      <td>0.0</td>\n",
       "      <td>0.0</td>\n",
       "      <td>0.0</td>\n",
       "      <td>0.0</td>\n",
       "      <td>0.0</td>\n",
       "      <td>0.0</td>\n",
       "      <td>0.0</td>\n",
       "      <td>False</td>\n",
       "      <td>False</td>\n",
       "    </tr>\n",
       "    <tr>\n",
       "      <th>4</th>\n",
       "      <td>Denver</td>\n",
       "      <td>University of Colorado</td>\n",
       "      <td>$25,000 - $29,000 a year</td>\n",
       "      <td>experience entering and manipulating data in a...</td>\n",
       "      <td>animal care i</td>\n",
       "      <td>27000.0</td>\n",
       "      <td>0</td>\n",
       "      <td>False</td>\n",
       "      <td>False</td>\n",
       "      <td>0.0</td>\n",
       "      <td>...</td>\n",
       "      <td>0.0</td>\n",
       "      <td>0.0</td>\n",
       "      <td>0.0</td>\n",
       "      <td>0.0</td>\n",
       "      <td>0.0</td>\n",
       "      <td>0.0</td>\n",
       "      <td>0.0</td>\n",
       "      <td>0.0</td>\n",
       "      <td>False</td>\n",
       "      <td>False</td>\n",
       "    </tr>\n",
       "  </tbody>\n",
       "</table>\n",
       "<p>5 rows × 28 columns</p>\n",
       "</div>"
      ],
      "text/plain": [
       "     city                         company                    salary  \\\n",
       "0  Denver      Department Of The Interior  $76,341 - $99,243 a year   \n",
       "1  Denver      Department Of The Interior  $71,012 - $99,243 a year   \n",
       "2  Denver  Mental Health Center of Denver  $70,000 - $80,000 a year   \n",
       "3  Denver           Denver Public Schools  $62,712 - $75,255 a year   \n",
       "4  Denver          University of Colorado  $25,000 - $29,000 a year   \n",
       "\n",
       "                                             summary  \\\n",
       "0  would you like to join the more than 10,000 sc...   \n",
       "1  investigate potential uses of geospatial data ...   \n",
       "2  advise the data developer with regard to creat...   \n",
       "3  portal managers on student outcome data report...   \n",
       "4  experience entering and manipulating data in a...   \n",
       "\n",
       "                                               title  parsed_salary  \\\n",
       "0             statistician, gs-1350-12 (deu-perm-ds)        87792.0   \n",
       "1  interdisciplinary cartographer/geographer - gs...        85127.5   \n",
       "2                           financial data scientist        75000.0   \n",
       "3                            senior research analyst        68983.5   \n",
       "4                                      animal care i        27000.0   \n",
       "\n",
       "   binary_salary contains_senior contains_manager  city__Austin  \\\n",
       "0              0           False            False           0.0   \n",
       "1              0           False            False           0.0   \n",
       "2              0           False            False           0.0   \n",
       "3              0            True            False           0.0   \n",
       "4              0           False            False           0.0   \n",
       "\n",
       "        ...        city__Palo Alto  city__Philadelphia  city__Phoenix  \\\n",
       "0       ...                    0.0                 0.0            0.0   \n",
       "1       ...                    0.0                 0.0            0.0   \n",
       "2       ...                    0.0                 0.0            0.0   \n",
       "3       ...                    0.0                 0.0            0.0   \n",
       "4       ...                    0.0                 0.0            0.0   \n",
       "\n",
       "   city__Pittsburgh  city__Portland  city__San Diego  city__San Francisco  \\\n",
       "0               0.0             0.0              0.0                  0.0   \n",
       "1               0.0             0.0              0.0                  0.0   \n",
       "2               0.0             0.0              0.0                  0.0   \n",
       "3               0.0             0.0              0.0                  0.0   \n",
       "4               0.0             0.0              0.0                  0.0   \n",
       "\n",
       "   city__Seattle  contains_phd  high_education  \n",
       "0            0.0         False           False  \n",
       "1            0.0         False           False  \n",
       "2            0.0         False           False  \n",
       "3            0.0         False           False  \n",
       "4            0.0         False           False  \n",
       "\n",
       "[5 rows x 28 columns]"
      ]
     },
     "execution_count": 58,
     "metadata": {},
     "output_type": "execute_result"
    }
   ],
   "source": [
    "def lower(x):\n",
    "    return x.lower()\n",
    "df['summary']=df['summary'].apply(lower)\n",
    "df['high_education'] = df['summary'].str.contains('phd', 'masters')\n",
    "df.head()"
   ]
  },
  {
   "cell_type": "code",
   "execution_count": 57,
   "metadata": {
    "collapsed": false,
    "scrolled": true
   },
   "outputs": [
    {
     "data": {
      "text/html": [
       "<table class=\"simpletable\">\n",
       "<caption>OLS Regression Results</caption>\n",
       "<tr>\n",
       "  <th>Dep. Variable:</th>      <td>binary_salary</td>  <th>  R-squared:         </th> <td>   0.001</td>\n",
       "</tr>\n",
       "<tr>\n",
       "  <th>Model:</th>                   <td>OLS</td>       <th>  Adj. R-squared:    </th> <td>  -0.002</td>\n",
       "</tr>\n",
       "<tr>\n",
       "  <th>Method:</th>             <td>Least Squares</td>  <th>  F-statistic:       </th> <td>  0.2936</td>\n",
       "</tr>\n",
       "<tr>\n",
       "  <th>Date:</th>             <td>Sun, 15 Jan 2017</td> <th>  Prob (F-statistic):</th>  <td> 0.588</td> \n",
       "</tr>\n",
       "<tr>\n",
       "  <th>Time:</th>                 <td>23:50:09</td>     <th>  Log-Likelihood:    </th> <td> -299.25</td>\n",
       "</tr>\n",
       "<tr>\n",
       "  <th>No. Observations:</th>      <td>   413</td>      <th>  AIC:               </th> <td>   602.5</td>\n",
       "</tr>\n",
       "<tr>\n",
       "  <th>Df Residuals:</th>          <td>   411</td>      <th>  BIC:               </th> <td>   610.6</td>\n",
       "</tr>\n",
       "<tr>\n",
       "  <th>Df Model:</th>              <td>     1</td>      <th>                     </th>     <td> </td>   \n",
       "</tr>\n",
       "<tr>\n",
       "  <th>Covariance Type:</th>      <td>nonrobust</td>    <th>                     </th>     <td> </td>   \n",
       "</tr>\n",
       "</table>\n",
       "<table class=\"simpletable\">\n",
       "<tr>\n",
       "             <td></td>               <th>coef</th>     <th>std err</th>      <th>t</th>      <th>P>|t|</th> <th>[95.0% Conf. Int.]</th> \n",
       "</tr>\n",
       "<tr>\n",
       "  <th>Intercept</th>              <td>    0.4779</td> <td>    0.025</td> <td>   19.284</td> <td> 0.000</td> <td>    0.429     0.527</td>\n",
       "</tr>\n",
       "<tr>\n",
       "  <th>high_education[T.True]</th> <td>    0.1221</td> <td>    0.225</td> <td>    0.542</td> <td> 0.588</td> <td>   -0.321     0.565</td>\n",
       "</tr>\n",
       "</table>\n",
       "<table class=\"simpletable\">\n",
       "<tr>\n",
       "  <th>Omnibus:</th>       <td> 0.485</td> <th>  Durbin-Watson:     </th> <td>   1.535</td>\n",
       "</tr>\n",
       "<tr>\n",
       "  <th>Prob(Omnibus):</th> <td> 0.785</td> <th>  Jarque-Bera (JB):  </th> <td>  68.644</td>\n",
       "</tr>\n",
       "<tr>\n",
       "  <th>Skew:</th>          <td> 0.083</td> <th>  Prob(JB):          </th> <td>1.24e-15</td>\n",
       "</tr>\n",
       "<tr>\n",
       "  <th>Kurtosis:</th>      <td> 1.010</td> <th>  Cond. No.          </th> <td>    9.15</td>\n",
       "</tr>\n",
       "</table>"
      ],
      "text/plain": [
       "<class 'statsmodels.iolib.summary.Summary'>\n",
       "\"\"\"\n",
       "                            OLS Regression Results                            \n",
       "==============================================================================\n",
       "Dep. Variable:          binary_salary   R-squared:                       0.001\n",
       "Model:                            OLS   Adj. R-squared:                 -0.002\n",
       "Method:                 Least Squares   F-statistic:                    0.2936\n",
       "Date:                Sun, 15 Jan 2017   Prob (F-statistic):              0.588\n",
       "Time:                        23:50:09   Log-Likelihood:                -299.25\n",
       "No. Observations:                 413   AIC:                             602.5\n",
       "Df Residuals:                     411   BIC:                             610.6\n",
       "Df Model:                           1                                         \n",
       "Covariance Type:            nonrobust                                         \n",
       "==========================================================================================\n",
       "                             coef    std err          t      P>|t|      [95.0% Conf. Int.]\n",
       "------------------------------------------------------------------------------------------\n",
       "Intercept                  0.4779      0.025     19.284      0.000         0.429     0.527\n",
       "high_education[T.True]     0.1221      0.225      0.542      0.588        -0.321     0.565\n",
       "==============================================================================\n",
       "Omnibus:                        0.485   Durbin-Watson:                   1.535\n",
       "Prob(Omnibus):                  0.785   Jarque-Bera (JB):               68.644\n",
       "Skew:                           0.083   Prob(JB):                     1.24e-15\n",
       "Kurtosis:                       1.010   Cond. No.                         9.15\n",
       "==============================================================================\n",
       "\n",
       "Warnings:\n",
       "[1] Standard Errors assume that the covariance matrix of the errors is correctly specified.\n",
       "\"\"\""
      ]
     },
     "execution_count": 57,
     "metadata": {},
     "output_type": "execute_result"
    }
   ],
   "source": [
    "model6 = smf.ols('binary_salary ~ high_education', data=df).fit().summary()\n",
    "model6"
   ]
  },
  {
   "cell_type": "code",
   "execution_count": 59,
   "metadata": {
    "collapsed": false,
    "scrolled": true
   },
   "outputs": [
    {
     "data": {
      "text/html": [
       "<div>\n",
       "<table border=\"1\" class=\"dataframe\">\n",
       "  <thead>\n",
       "    <tr style=\"text-align: right;\">\n",
       "      <th></th>\n",
       "      <th>city</th>\n",
       "      <th>company</th>\n",
       "      <th>salary</th>\n",
       "      <th>summary</th>\n",
       "      <th>title</th>\n",
       "      <th>parsed_salary</th>\n",
       "      <th>binary_salary</th>\n",
       "      <th>contains_senior</th>\n",
       "      <th>contains_manager</th>\n",
       "      <th>city__Austin</th>\n",
       "      <th>...</th>\n",
       "      <th>city__Philadelphia</th>\n",
       "      <th>city__Phoenix</th>\n",
       "      <th>city__Pittsburgh</th>\n",
       "      <th>city__Portland</th>\n",
       "      <th>city__San Diego</th>\n",
       "      <th>city__San Francisco</th>\n",
       "      <th>city__Seattle</th>\n",
       "      <th>contains_phd</th>\n",
       "      <th>high_education</th>\n",
       "      <th>machine_learning</th>\n",
       "    </tr>\n",
       "  </thead>\n",
       "  <tbody>\n",
       "    <tr>\n",
       "      <th>0</th>\n",
       "      <td>Denver</td>\n",
       "      <td>Department Of The Interior</td>\n",
       "      <td>$76,341 - $99,243 a year</td>\n",
       "      <td>would you like to join the more than 10,000 sc...</td>\n",
       "      <td>statistician, gs-1350-12 (deu-perm-ds)</td>\n",
       "      <td>87792.0</td>\n",
       "      <td>0</td>\n",
       "      <td>False</td>\n",
       "      <td>False</td>\n",
       "      <td>0.0</td>\n",
       "      <td>...</td>\n",
       "      <td>0.0</td>\n",
       "      <td>0.0</td>\n",
       "      <td>0.0</td>\n",
       "      <td>0.0</td>\n",
       "      <td>0.0</td>\n",
       "      <td>0.0</td>\n",
       "      <td>0.0</td>\n",
       "      <td>False</td>\n",
       "      <td>False</td>\n",
       "      <td>False</td>\n",
       "    </tr>\n",
       "    <tr>\n",
       "      <th>1</th>\n",
       "      <td>Denver</td>\n",
       "      <td>Department Of The Interior</td>\n",
       "      <td>$71,012 - $99,243 a year</td>\n",
       "      <td>investigate potential uses of geospatial data ...</td>\n",
       "      <td>interdisciplinary cartographer/geographer - gs...</td>\n",
       "      <td>85127.5</td>\n",
       "      <td>0</td>\n",
       "      <td>False</td>\n",
       "      <td>False</td>\n",
       "      <td>0.0</td>\n",
       "      <td>...</td>\n",
       "      <td>0.0</td>\n",
       "      <td>0.0</td>\n",
       "      <td>0.0</td>\n",
       "      <td>0.0</td>\n",
       "      <td>0.0</td>\n",
       "      <td>0.0</td>\n",
       "      <td>0.0</td>\n",
       "      <td>False</td>\n",
       "      <td>False</td>\n",
       "      <td>False</td>\n",
       "    </tr>\n",
       "    <tr>\n",
       "      <th>2</th>\n",
       "      <td>Denver</td>\n",
       "      <td>Mental Health Center of Denver</td>\n",
       "      <td>$70,000 - $80,000 a year</td>\n",
       "      <td>advise the data developer with regard to creat...</td>\n",
       "      <td>financial data scientist</td>\n",
       "      <td>75000.0</td>\n",
       "      <td>0</td>\n",
       "      <td>False</td>\n",
       "      <td>False</td>\n",
       "      <td>0.0</td>\n",
       "      <td>...</td>\n",
       "      <td>0.0</td>\n",
       "      <td>0.0</td>\n",
       "      <td>0.0</td>\n",
       "      <td>0.0</td>\n",
       "      <td>0.0</td>\n",
       "      <td>0.0</td>\n",
       "      <td>0.0</td>\n",
       "      <td>False</td>\n",
       "      <td>False</td>\n",
       "      <td>False</td>\n",
       "    </tr>\n",
       "    <tr>\n",
       "      <th>3</th>\n",
       "      <td>Denver</td>\n",
       "      <td>Denver Public Schools</td>\n",
       "      <td>$62,712 - $75,255 a year</td>\n",
       "      <td>portal managers on student outcome data report...</td>\n",
       "      <td>senior research analyst</td>\n",
       "      <td>68983.5</td>\n",
       "      <td>0</td>\n",
       "      <td>True</td>\n",
       "      <td>False</td>\n",
       "      <td>0.0</td>\n",
       "      <td>...</td>\n",
       "      <td>0.0</td>\n",
       "      <td>0.0</td>\n",
       "      <td>0.0</td>\n",
       "      <td>0.0</td>\n",
       "      <td>0.0</td>\n",
       "      <td>0.0</td>\n",
       "      <td>0.0</td>\n",
       "      <td>False</td>\n",
       "      <td>False</td>\n",
       "      <td>False</td>\n",
       "    </tr>\n",
       "    <tr>\n",
       "      <th>4</th>\n",
       "      <td>Denver</td>\n",
       "      <td>University of Colorado</td>\n",
       "      <td>$25,000 - $29,000 a year</td>\n",
       "      <td>experience entering and manipulating data in a...</td>\n",
       "      <td>animal care i</td>\n",
       "      <td>27000.0</td>\n",
       "      <td>0</td>\n",
       "      <td>False</td>\n",
       "      <td>False</td>\n",
       "      <td>0.0</td>\n",
       "      <td>...</td>\n",
       "      <td>0.0</td>\n",
       "      <td>0.0</td>\n",
       "      <td>0.0</td>\n",
       "      <td>0.0</td>\n",
       "      <td>0.0</td>\n",
       "      <td>0.0</td>\n",
       "      <td>0.0</td>\n",
       "      <td>False</td>\n",
       "      <td>False</td>\n",
       "      <td>False</td>\n",
       "    </tr>\n",
       "  </tbody>\n",
       "</table>\n",
       "<p>5 rows × 29 columns</p>\n",
       "</div>"
      ],
      "text/plain": [
       "     city                         company                    salary  \\\n",
       "0  Denver      Department Of The Interior  $76,341 - $99,243 a year   \n",
       "1  Denver      Department Of The Interior  $71,012 - $99,243 a year   \n",
       "2  Denver  Mental Health Center of Denver  $70,000 - $80,000 a year   \n",
       "3  Denver           Denver Public Schools  $62,712 - $75,255 a year   \n",
       "4  Denver          University of Colorado  $25,000 - $29,000 a year   \n",
       "\n",
       "                                             summary  \\\n",
       "0  would you like to join the more than 10,000 sc...   \n",
       "1  investigate potential uses of geospatial data ...   \n",
       "2  advise the data developer with regard to creat...   \n",
       "3  portal managers on student outcome data report...   \n",
       "4  experience entering and manipulating data in a...   \n",
       "\n",
       "                                               title  parsed_salary  \\\n",
       "0             statistician, gs-1350-12 (deu-perm-ds)        87792.0   \n",
       "1  interdisciplinary cartographer/geographer - gs...        85127.5   \n",
       "2                           financial data scientist        75000.0   \n",
       "3                            senior research analyst        68983.5   \n",
       "4                                      animal care i        27000.0   \n",
       "\n",
       "   binary_salary contains_senior contains_manager  city__Austin  \\\n",
       "0              0           False            False           0.0   \n",
       "1              0           False            False           0.0   \n",
       "2              0           False            False           0.0   \n",
       "3              0            True            False           0.0   \n",
       "4              0           False            False           0.0   \n",
       "\n",
       "         ...         city__Philadelphia  city__Phoenix  city__Pittsburgh  \\\n",
       "0        ...                        0.0            0.0               0.0   \n",
       "1        ...                        0.0            0.0               0.0   \n",
       "2        ...                        0.0            0.0               0.0   \n",
       "3        ...                        0.0            0.0               0.0   \n",
       "4        ...                        0.0            0.0               0.0   \n",
       "\n",
       "   city__Portland  city__San Diego  city__San Francisco  city__Seattle  \\\n",
       "0             0.0              0.0                  0.0            0.0   \n",
       "1             0.0              0.0                  0.0            0.0   \n",
       "2             0.0              0.0                  0.0            0.0   \n",
       "3             0.0              0.0                  0.0            0.0   \n",
       "4             0.0              0.0                  0.0            0.0   \n",
       "\n",
       "   contains_phd  high_education  machine_learning  \n",
       "0         False           False             False  \n",
       "1         False           False             False  \n",
       "2         False           False             False  \n",
       "3         False           False             False  \n",
       "4         False           False             False  \n",
       "\n",
       "[5 rows x 29 columns]"
      ]
     },
     "execution_count": 59,
     "metadata": {},
     "output_type": "execute_result"
    }
   ],
   "source": [
    "def lower(x):\n",
    "    return x.lower()\n",
    "df['summary']=df['summary'].apply(lower)\n",
    "df['machine_learning'] = df['summary'].str.contains('machine learning')\n",
    "df.head()"
   ]
  },
  {
   "cell_type": "code",
   "execution_count": 60,
   "metadata": {
    "collapsed": false
   },
   "outputs": [
    {
     "data": {
      "text/html": [
       "<table class=\"simpletable\">\n",
       "<caption>OLS Regression Results</caption>\n",
       "<tr>\n",
       "  <th>Dep. Variable:</th>      <td>binary_salary</td>  <th>  R-squared:         </th> <td>   0.019</td>\n",
       "</tr>\n",
       "<tr>\n",
       "  <th>Model:</th>                   <td>OLS</td>       <th>  Adj. R-squared:    </th> <td>   0.017</td>\n",
       "</tr>\n",
       "<tr>\n",
       "  <th>Method:</th>             <td>Least Squares</td>  <th>  F-statistic:       </th> <td>   8.129</td>\n",
       "</tr>\n",
       "<tr>\n",
       "  <th>Date:</th>             <td>Sun, 15 Jan 2017</td> <th>  Prob (F-statistic):</th>  <td>0.00458</td>\n",
       "</tr>\n",
       "<tr>\n",
       "  <th>Time:</th>                 <td>23:52:07</td>     <th>  Log-Likelihood:    </th> <td> -295.36</td>\n",
       "</tr>\n",
       "<tr>\n",
       "  <th>No. Observations:</th>      <td>   413</td>      <th>  AIC:               </th> <td>   594.7</td>\n",
       "</tr>\n",
       "<tr>\n",
       "  <th>Df Residuals:</th>          <td>   411</td>      <th>  BIC:               </th> <td>   602.8</td>\n",
       "</tr>\n",
       "<tr>\n",
       "  <th>Df Model:</th>              <td>     1</td>      <th>                     </th>     <td> </td>   \n",
       "</tr>\n",
       "<tr>\n",
       "  <th>Covariance Type:</th>      <td>nonrobust</td>    <th>                     </th>     <td> </td>   \n",
       "</tr>\n",
       "</table>\n",
       "<table class=\"simpletable\">\n",
       "<tr>\n",
       "              <td></td>                <th>coef</th>     <th>std err</th>      <th>t</th>      <th>P>|t|</th> <th>[95.0% Conf. Int.]</th> \n",
       "</tr>\n",
       "<tr>\n",
       "  <th>Intercept</th>                <td>    0.4629</td> <td>    0.025</td> <td>   18.458</td> <td> 0.000</td> <td>    0.414     0.512</td>\n",
       "</tr>\n",
       "<tr>\n",
       "  <th>machine_learning[T.True]</th> <td>    0.3098</td> <td>    0.109</td> <td>    2.851</td> <td> 0.005</td> <td>    0.096     0.523</td>\n",
       "</tr>\n",
       "</table>\n",
       "<table class=\"simpletable\">\n",
       "<tr>\n",
       "  <th>Omnibus:</th>       <td> 0.738</td> <th>  Durbin-Watson:     </th> <td>   1.538</td>\n",
       "</tr>\n",
       "<tr>\n",
       "  <th>Prob(Omnibus):</th> <td> 0.691</td> <th>  Jarque-Bera (JB):  </th> <td>  64.645</td>\n",
       "</tr>\n",
       "<tr>\n",
       "  <th>Skew:</th>          <td> 0.102</td> <th>  Prob(JB):          </th> <td>9.17e-15</td>\n",
       "</tr>\n",
       "<tr>\n",
       "  <th>Kurtosis:</th>      <td> 1.073</td> <th>  Cond. No.          </th> <td>    4.47</td>\n",
       "</tr>\n",
       "</table>"
      ],
      "text/plain": [
       "<class 'statsmodels.iolib.summary.Summary'>\n",
       "\"\"\"\n",
       "                            OLS Regression Results                            \n",
       "==============================================================================\n",
       "Dep. Variable:          binary_salary   R-squared:                       0.019\n",
       "Model:                            OLS   Adj. R-squared:                  0.017\n",
       "Method:                 Least Squares   F-statistic:                     8.129\n",
       "Date:                Sun, 15 Jan 2017   Prob (F-statistic):            0.00458\n",
       "Time:                        23:52:07   Log-Likelihood:                -295.36\n",
       "No. Observations:                 413   AIC:                             594.7\n",
       "Df Residuals:                     411   BIC:                             602.8\n",
       "Df Model:                           1                                         \n",
       "Covariance Type:            nonrobust                                         \n",
       "============================================================================================\n",
       "                               coef    std err          t      P>|t|      [95.0% Conf. Int.]\n",
       "--------------------------------------------------------------------------------------------\n",
       "Intercept                    0.4629      0.025     18.458      0.000         0.414     0.512\n",
       "machine_learning[T.True]     0.3098      0.109      2.851      0.005         0.096     0.523\n",
       "==============================================================================\n",
       "Omnibus:                        0.738   Durbin-Watson:                   1.538\n",
       "Prob(Omnibus):                  0.691   Jarque-Bera (JB):               64.645\n",
       "Skew:                           0.102   Prob(JB):                     9.17e-15\n",
       "Kurtosis:                       1.073   Cond. No.                         4.47\n",
       "==============================================================================\n",
       "\n",
       "Warnings:\n",
       "[1] Standard Errors assume that the covariance matrix of the errors is correctly specified.\n",
       "\"\"\""
      ]
     },
     "execution_count": 60,
     "metadata": {},
     "output_type": "execute_result"
    }
   ],
   "source": [
    "model7 = smf.ols('binary_salary ~ machine_learning', data=df).fit().summary()\n",
    "model7"
   ]
  },
  {
   "cell_type": "markdown",
   "metadata": {
    "focus": false,
    "id": "12d5edeb-a272-43a0-9977-d951f12fedfb"
   },
   "source": [
    "#### Take ~100 scraped entries with salaries. Convert them to use with your model and predict the salary - which entries have the highest predicted salaries?"
   ]
  },
  {
   "cell_type": "markdown",
   "metadata": {
    "focus": false,
    "id": "3be94357-e551-4094-b784-2df039216d33"
   },
   "source": [
    "### BONUS "
   ]
  },
  {
   "cell_type": "markdown",
   "metadata": {
    "focus": false,
    "id": "db045898-1d2d-4af2-8e79-437c4c7546b4"
   },
   "source": [
    "#### Bonus: Use Count Vectorizer from scikit-learn to create features from the text summaries. \n",
    "- Examine using count or binary features in the model\n",
    "- Re-evaluate the logistic regression model using these. Does this improve the model performance? \n",
    "- What text features are the most valuable? "
   ]
  },
  {
   "cell_type": "code",
   "execution_count": null,
   "metadata": {
    "collapsed": false,
    "focus": false,
    "id": "4239e458-28bd-4675-8db3-c1d9c02b9854"
   },
   "outputs": [],
   "source": [
    "## YOUR CODE HERE"
   ]
  },
  {
   "cell_type": "code",
   "execution_count": null,
   "metadata": {
    "collapsed": false,
    "focus": false,
    "id": "fec80936-37bc-4922-89bd-b5d615566c9c"
   },
   "outputs": [],
   "source": [
    "## YOUR CODE HERE"
   ]
  },
  {
   "cell_type": "markdown",
   "metadata": {
    "focus": false,
    "id": "d42b9fd8-39d5-416a-b40b-7410e6396c11"
   },
   "source": [
    "#### Re-test L1 and L2 regularization. You can use LogisticRegressionCV to find the optimal reguarlization parameters. \n",
    "- Re-test what text features are most valuable.  \n",
    "- How do L1 and L2 change the coefficients?"
   ]
  },
  {
   "cell_type": "code",
   "execution_count": null,
   "metadata": {
    "collapsed": false,
    "focus": false,
    "id": "7570e237-c8cc-4e26-b569-7aee10627e79"
   },
   "outputs": [],
   "source": [
    "## YOUR CODE HERE"
   ]
  },
  {
   "cell_type": "code",
   "execution_count": null,
   "metadata": {
    "collapsed": true,
    "focus": false,
    "id": "e3a0c83d-e3b8-4bed-b864-7e795b34a3d4"
   },
   "outputs": [],
   "source": []
  }
 ],
 "metadata": {
  "anaconda-cloud": {},
  "kernelspec": {
   "display_name": "Python [default]",
   "language": "python",
   "name": "python2"
  },
  "language_info": {
   "codemirror_mode": {
    "name": "ipython",
    "version": 2
   },
   "file_extension": ".py",
   "mimetype": "text/x-python",
   "name": "python",
   "nbconvert_exporter": "python",
   "pygments_lexer": "ipython2",
   "version": "2.7.12"
  }
 },
 "nbformat": 4,
 "nbformat_minor": 0
}
